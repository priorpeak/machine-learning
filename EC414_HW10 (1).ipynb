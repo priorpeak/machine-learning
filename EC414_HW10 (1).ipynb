{
  "nbformat": 4,
  "nbformat_minor": 0,
  "metadata": {
    "colab": {
      "name": "EC414_HW10.ipynb",
      "provenance": [],
      "collapsed_sections": []
    },
    "kernelspec": {
      "name": "python3",
      "display_name": "Python 3"
    },
    "language_info": {
      "name": "python"
    },
    "accelerator": "GPU",
    "widgets": {
      "application/vnd.jupyter.widget-state+json": {
        "b1720d4f973f4402b44bd18c33bbba03": {
          "model_module": "@jupyter-widgets/controls",
          "model_name": "HBoxModel",
          "state": {
            "_view_name": "HBoxView",
            "_dom_classes": [],
            "_model_name": "HBoxModel",
            "_view_module": "@jupyter-widgets/controls",
            "_model_module_version": "1.5.0",
            "_view_count": null,
            "_view_module_version": "1.5.0",
            "box_style": "",
            "layout": "IPY_MODEL_42a163781e9e416ca60d2627b2652789",
            "_model_module": "@jupyter-widgets/controls",
            "children": [
              "IPY_MODEL_b2427e8152ec4ba8a09a1c017ca8c715",
              "IPY_MODEL_150cbdcda4b14b94b67b19070ea2dfb7"
            ]
          }
        },
        "42a163781e9e416ca60d2627b2652789": {
          "model_module": "@jupyter-widgets/base",
          "model_name": "LayoutModel",
          "state": {
            "_view_name": "LayoutView",
            "grid_template_rows": null,
            "right": null,
            "justify_content": null,
            "_view_module": "@jupyter-widgets/base",
            "overflow": null,
            "_model_module_version": "1.2.0",
            "_view_count": null,
            "flex_flow": null,
            "width": null,
            "min_width": null,
            "border": null,
            "align_items": null,
            "bottom": null,
            "_model_module": "@jupyter-widgets/base",
            "top": null,
            "grid_column": null,
            "overflow_y": null,
            "overflow_x": null,
            "grid_auto_flow": null,
            "grid_area": null,
            "grid_template_columns": null,
            "flex": null,
            "_model_name": "LayoutModel",
            "justify_items": null,
            "grid_row": null,
            "max_height": null,
            "align_content": null,
            "visibility": null,
            "align_self": null,
            "height": null,
            "min_height": null,
            "padding": null,
            "grid_auto_rows": null,
            "grid_gap": null,
            "max_width": null,
            "order": null,
            "_view_module_version": "1.2.0",
            "grid_template_areas": null,
            "object_position": null,
            "object_fit": null,
            "grid_auto_columns": null,
            "margin": null,
            "display": null,
            "left": null
          }
        },
        "b2427e8152ec4ba8a09a1c017ca8c715": {
          "model_module": "@jupyter-widgets/controls",
          "model_name": "FloatProgressModel",
          "state": {
            "_view_name": "ProgressView",
            "style": "IPY_MODEL_9257e2c221f54c1781767e56edc8af1f",
            "_dom_classes": [],
            "description": "",
            "_model_name": "FloatProgressModel",
            "bar_style": "success",
            "max": 9912422,
            "_view_module": "@jupyter-widgets/controls",
            "_model_module_version": "1.5.0",
            "value": 9912422,
            "_view_count": null,
            "_view_module_version": "1.5.0",
            "orientation": "horizontal",
            "min": 0,
            "description_tooltip": null,
            "_model_module": "@jupyter-widgets/controls",
            "layout": "IPY_MODEL_d1bcc28de3534a119dd265291005584c"
          }
        },
        "150cbdcda4b14b94b67b19070ea2dfb7": {
          "model_module": "@jupyter-widgets/controls",
          "model_name": "HTMLModel",
          "state": {
            "_view_name": "HTMLView",
            "style": "IPY_MODEL_27486fee734d4ceca2944ed08998cbf3",
            "_dom_classes": [],
            "description": "",
            "_model_name": "HTMLModel",
            "placeholder": "​",
            "_view_module": "@jupyter-widgets/controls",
            "_model_module_version": "1.5.0",
            "value": " 9913344/? [01:29&lt;00:00, 110212.68it/s]",
            "_view_count": null,
            "_view_module_version": "1.5.0",
            "description_tooltip": null,
            "_model_module": "@jupyter-widgets/controls",
            "layout": "IPY_MODEL_4f5003d9b47342918def4e757773bcd0"
          }
        },
        "9257e2c221f54c1781767e56edc8af1f": {
          "model_module": "@jupyter-widgets/controls",
          "model_name": "ProgressStyleModel",
          "state": {
            "_view_name": "StyleView",
            "_model_name": "ProgressStyleModel",
            "description_width": "initial",
            "_view_module": "@jupyter-widgets/base",
            "_model_module_version": "1.5.0",
            "_view_count": null,
            "_view_module_version": "1.2.0",
            "bar_color": null,
            "_model_module": "@jupyter-widgets/controls"
          }
        },
        "d1bcc28de3534a119dd265291005584c": {
          "model_module": "@jupyter-widgets/base",
          "model_name": "LayoutModel",
          "state": {
            "_view_name": "LayoutView",
            "grid_template_rows": null,
            "right": null,
            "justify_content": null,
            "_view_module": "@jupyter-widgets/base",
            "overflow": null,
            "_model_module_version": "1.2.0",
            "_view_count": null,
            "flex_flow": null,
            "width": null,
            "min_width": null,
            "border": null,
            "align_items": null,
            "bottom": null,
            "_model_module": "@jupyter-widgets/base",
            "top": null,
            "grid_column": null,
            "overflow_y": null,
            "overflow_x": null,
            "grid_auto_flow": null,
            "grid_area": null,
            "grid_template_columns": null,
            "flex": null,
            "_model_name": "LayoutModel",
            "justify_items": null,
            "grid_row": null,
            "max_height": null,
            "align_content": null,
            "visibility": null,
            "align_self": null,
            "height": null,
            "min_height": null,
            "padding": null,
            "grid_auto_rows": null,
            "grid_gap": null,
            "max_width": null,
            "order": null,
            "_view_module_version": "1.2.0",
            "grid_template_areas": null,
            "object_position": null,
            "object_fit": null,
            "grid_auto_columns": null,
            "margin": null,
            "display": null,
            "left": null
          }
        },
        "27486fee734d4ceca2944ed08998cbf3": {
          "model_module": "@jupyter-widgets/controls",
          "model_name": "DescriptionStyleModel",
          "state": {
            "_view_name": "StyleView",
            "_model_name": "DescriptionStyleModel",
            "description_width": "",
            "_view_module": "@jupyter-widgets/base",
            "_model_module_version": "1.5.0",
            "_view_count": null,
            "_view_module_version": "1.2.0",
            "_model_module": "@jupyter-widgets/controls"
          }
        },
        "4f5003d9b47342918def4e757773bcd0": {
          "model_module": "@jupyter-widgets/base",
          "model_name": "LayoutModel",
          "state": {
            "_view_name": "LayoutView",
            "grid_template_rows": null,
            "right": null,
            "justify_content": null,
            "_view_module": "@jupyter-widgets/base",
            "overflow": null,
            "_model_module_version": "1.2.0",
            "_view_count": null,
            "flex_flow": null,
            "width": null,
            "min_width": null,
            "border": null,
            "align_items": null,
            "bottom": null,
            "_model_module": "@jupyter-widgets/base",
            "top": null,
            "grid_column": null,
            "overflow_y": null,
            "overflow_x": null,
            "grid_auto_flow": null,
            "grid_area": null,
            "grid_template_columns": null,
            "flex": null,
            "_model_name": "LayoutModel",
            "justify_items": null,
            "grid_row": null,
            "max_height": null,
            "align_content": null,
            "visibility": null,
            "align_self": null,
            "height": null,
            "min_height": null,
            "padding": null,
            "grid_auto_rows": null,
            "grid_gap": null,
            "max_width": null,
            "order": null,
            "_view_module_version": "1.2.0",
            "grid_template_areas": null,
            "object_position": null,
            "object_fit": null,
            "grid_auto_columns": null,
            "margin": null,
            "display": null,
            "left": null
          }
        },
        "1ca95f8e829c461ebc20f58459de1b5e": {
          "model_module": "@jupyter-widgets/controls",
          "model_name": "HBoxModel",
          "state": {
            "_view_name": "HBoxView",
            "_dom_classes": [],
            "_model_name": "HBoxModel",
            "_view_module": "@jupyter-widgets/controls",
            "_model_module_version": "1.5.0",
            "_view_count": null,
            "_view_module_version": "1.5.0",
            "box_style": "",
            "layout": "IPY_MODEL_037d7c63ef7948dc8a9b05ab8822bd5a",
            "_model_module": "@jupyter-widgets/controls",
            "children": [
              "IPY_MODEL_c2f1f024d2c84461b11bbcface530597",
              "IPY_MODEL_1f939a7b033d42a4a685c3ce55fcf3a9"
            ]
          }
        },
        "037d7c63ef7948dc8a9b05ab8822bd5a": {
          "model_module": "@jupyter-widgets/base",
          "model_name": "LayoutModel",
          "state": {
            "_view_name": "LayoutView",
            "grid_template_rows": null,
            "right": null,
            "justify_content": null,
            "_view_module": "@jupyter-widgets/base",
            "overflow": null,
            "_model_module_version": "1.2.0",
            "_view_count": null,
            "flex_flow": null,
            "width": null,
            "min_width": null,
            "border": null,
            "align_items": null,
            "bottom": null,
            "_model_module": "@jupyter-widgets/base",
            "top": null,
            "grid_column": null,
            "overflow_y": null,
            "overflow_x": null,
            "grid_auto_flow": null,
            "grid_area": null,
            "grid_template_columns": null,
            "flex": null,
            "_model_name": "LayoutModel",
            "justify_items": null,
            "grid_row": null,
            "max_height": null,
            "align_content": null,
            "visibility": null,
            "align_self": null,
            "height": null,
            "min_height": null,
            "padding": null,
            "grid_auto_rows": null,
            "grid_gap": null,
            "max_width": null,
            "order": null,
            "_view_module_version": "1.2.0",
            "grid_template_areas": null,
            "object_position": null,
            "object_fit": null,
            "grid_auto_columns": null,
            "margin": null,
            "display": null,
            "left": null
          }
        },
        "c2f1f024d2c84461b11bbcface530597": {
          "model_module": "@jupyter-widgets/controls",
          "model_name": "FloatProgressModel",
          "state": {
            "_view_name": "ProgressView",
            "style": "IPY_MODEL_bc1ec876712b48dc8e4d7d899b7ccee3",
            "_dom_classes": [],
            "description": "",
            "_model_name": "FloatProgressModel",
            "bar_style": "success",
            "max": 28881,
            "_view_module": "@jupyter-widgets/controls",
            "_model_module_version": "1.5.0",
            "value": 28881,
            "_view_count": null,
            "_view_module_version": "1.5.0",
            "orientation": "horizontal",
            "min": 0,
            "description_tooltip": null,
            "_model_module": "@jupyter-widgets/controls",
            "layout": "IPY_MODEL_af8ae24847cd4ba1a57922d77694585b"
          }
        },
        "1f939a7b033d42a4a685c3ce55fcf3a9": {
          "model_module": "@jupyter-widgets/controls",
          "model_name": "HTMLModel",
          "state": {
            "_view_name": "HTMLView",
            "style": "IPY_MODEL_1d81dfe28fe249b7bb2f7961db13c32a",
            "_dom_classes": [],
            "description": "",
            "_model_name": "HTMLModel",
            "placeholder": "​",
            "_view_module": "@jupyter-widgets/controls",
            "_model_module_version": "1.5.0",
            "value": " 29696/? [00:00&lt;00:00, 300247.45it/s]",
            "_view_count": null,
            "_view_module_version": "1.5.0",
            "description_tooltip": null,
            "_model_module": "@jupyter-widgets/controls",
            "layout": "IPY_MODEL_782fcdf72f974a6dbf08d946592cf526"
          }
        },
        "bc1ec876712b48dc8e4d7d899b7ccee3": {
          "model_module": "@jupyter-widgets/controls",
          "model_name": "ProgressStyleModel",
          "state": {
            "_view_name": "StyleView",
            "_model_name": "ProgressStyleModel",
            "description_width": "initial",
            "_view_module": "@jupyter-widgets/base",
            "_model_module_version": "1.5.0",
            "_view_count": null,
            "_view_module_version": "1.2.0",
            "bar_color": null,
            "_model_module": "@jupyter-widgets/controls"
          }
        },
        "af8ae24847cd4ba1a57922d77694585b": {
          "model_module": "@jupyter-widgets/base",
          "model_name": "LayoutModel",
          "state": {
            "_view_name": "LayoutView",
            "grid_template_rows": null,
            "right": null,
            "justify_content": null,
            "_view_module": "@jupyter-widgets/base",
            "overflow": null,
            "_model_module_version": "1.2.0",
            "_view_count": null,
            "flex_flow": null,
            "width": null,
            "min_width": null,
            "border": null,
            "align_items": null,
            "bottom": null,
            "_model_module": "@jupyter-widgets/base",
            "top": null,
            "grid_column": null,
            "overflow_y": null,
            "overflow_x": null,
            "grid_auto_flow": null,
            "grid_area": null,
            "grid_template_columns": null,
            "flex": null,
            "_model_name": "LayoutModel",
            "justify_items": null,
            "grid_row": null,
            "max_height": null,
            "align_content": null,
            "visibility": null,
            "align_self": null,
            "height": null,
            "min_height": null,
            "padding": null,
            "grid_auto_rows": null,
            "grid_gap": null,
            "max_width": null,
            "order": null,
            "_view_module_version": "1.2.0",
            "grid_template_areas": null,
            "object_position": null,
            "object_fit": null,
            "grid_auto_columns": null,
            "margin": null,
            "display": null,
            "left": null
          }
        },
        "1d81dfe28fe249b7bb2f7961db13c32a": {
          "model_module": "@jupyter-widgets/controls",
          "model_name": "DescriptionStyleModel",
          "state": {
            "_view_name": "StyleView",
            "_model_name": "DescriptionStyleModel",
            "description_width": "",
            "_view_module": "@jupyter-widgets/base",
            "_model_module_version": "1.5.0",
            "_view_count": null,
            "_view_module_version": "1.2.0",
            "_model_module": "@jupyter-widgets/controls"
          }
        },
        "782fcdf72f974a6dbf08d946592cf526": {
          "model_module": "@jupyter-widgets/base",
          "model_name": "LayoutModel",
          "state": {
            "_view_name": "LayoutView",
            "grid_template_rows": null,
            "right": null,
            "justify_content": null,
            "_view_module": "@jupyter-widgets/base",
            "overflow": null,
            "_model_module_version": "1.2.0",
            "_view_count": null,
            "flex_flow": null,
            "width": null,
            "min_width": null,
            "border": null,
            "align_items": null,
            "bottom": null,
            "_model_module": "@jupyter-widgets/base",
            "top": null,
            "grid_column": null,
            "overflow_y": null,
            "overflow_x": null,
            "grid_auto_flow": null,
            "grid_area": null,
            "grid_template_columns": null,
            "flex": null,
            "_model_name": "LayoutModel",
            "justify_items": null,
            "grid_row": null,
            "max_height": null,
            "align_content": null,
            "visibility": null,
            "align_self": null,
            "height": null,
            "min_height": null,
            "padding": null,
            "grid_auto_rows": null,
            "grid_gap": null,
            "max_width": null,
            "order": null,
            "_view_module_version": "1.2.0",
            "grid_template_areas": null,
            "object_position": null,
            "object_fit": null,
            "grid_auto_columns": null,
            "margin": null,
            "display": null,
            "left": null
          }
        },
        "9f07631bbb844c12a2424287338be23c": {
          "model_module": "@jupyter-widgets/controls",
          "model_name": "HBoxModel",
          "state": {
            "_view_name": "HBoxView",
            "_dom_classes": [],
            "_model_name": "HBoxModel",
            "_view_module": "@jupyter-widgets/controls",
            "_model_module_version": "1.5.0",
            "_view_count": null,
            "_view_module_version": "1.5.0",
            "box_style": "",
            "layout": "IPY_MODEL_cb7446592a9f46cc8c053ba15548c669",
            "_model_module": "@jupyter-widgets/controls",
            "children": [
              "IPY_MODEL_7339e03c934943a59f89ec740a2d4357",
              "IPY_MODEL_c416d7159cd944258547faf282637f0b"
            ]
          }
        },
        "cb7446592a9f46cc8c053ba15548c669": {
          "model_module": "@jupyter-widgets/base",
          "model_name": "LayoutModel",
          "state": {
            "_view_name": "LayoutView",
            "grid_template_rows": null,
            "right": null,
            "justify_content": null,
            "_view_module": "@jupyter-widgets/base",
            "overflow": null,
            "_model_module_version": "1.2.0",
            "_view_count": null,
            "flex_flow": null,
            "width": null,
            "min_width": null,
            "border": null,
            "align_items": null,
            "bottom": null,
            "_model_module": "@jupyter-widgets/base",
            "top": null,
            "grid_column": null,
            "overflow_y": null,
            "overflow_x": null,
            "grid_auto_flow": null,
            "grid_area": null,
            "grid_template_columns": null,
            "flex": null,
            "_model_name": "LayoutModel",
            "justify_items": null,
            "grid_row": null,
            "max_height": null,
            "align_content": null,
            "visibility": null,
            "align_self": null,
            "height": null,
            "min_height": null,
            "padding": null,
            "grid_auto_rows": null,
            "grid_gap": null,
            "max_width": null,
            "order": null,
            "_view_module_version": "1.2.0",
            "grid_template_areas": null,
            "object_position": null,
            "object_fit": null,
            "grid_auto_columns": null,
            "margin": null,
            "display": null,
            "left": null
          }
        },
        "7339e03c934943a59f89ec740a2d4357": {
          "model_module": "@jupyter-widgets/controls",
          "model_name": "FloatProgressModel",
          "state": {
            "_view_name": "ProgressView",
            "style": "IPY_MODEL_d0bebf5941aa4d9ab129c9e73ae12787",
            "_dom_classes": [],
            "description": "",
            "_model_name": "FloatProgressModel",
            "bar_style": "success",
            "max": 1648877,
            "_view_module": "@jupyter-widgets/controls",
            "_model_module_version": "1.5.0",
            "value": 1648877,
            "_view_count": null,
            "_view_module_version": "1.5.0",
            "orientation": "horizontal",
            "min": 0,
            "description_tooltip": null,
            "_model_module": "@jupyter-widgets/controls",
            "layout": "IPY_MODEL_88f8535d26e64275b9ef0a0d992e2da8"
          }
        },
        "c416d7159cd944258547faf282637f0b": {
          "model_module": "@jupyter-widgets/controls",
          "model_name": "HTMLModel",
          "state": {
            "_view_name": "HTMLView",
            "style": "IPY_MODEL_ff704473a48942d68c9a706700c064c9",
            "_dom_classes": [],
            "description": "",
            "_model_name": "HTMLModel",
            "placeholder": "​",
            "_view_module": "@jupyter-widgets/controls",
            "_model_module_version": "1.5.0",
            "value": " 1649664/? [00:00&lt;00:00, 2782606.16it/s]",
            "_view_count": null,
            "_view_module_version": "1.5.0",
            "description_tooltip": null,
            "_model_module": "@jupyter-widgets/controls",
            "layout": "IPY_MODEL_a68c7b4ea8ec4ef0856946097e02e48e"
          }
        },
        "d0bebf5941aa4d9ab129c9e73ae12787": {
          "model_module": "@jupyter-widgets/controls",
          "model_name": "ProgressStyleModel",
          "state": {
            "_view_name": "StyleView",
            "_model_name": "ProgressStyleModel",
            "description_width": "initial",
            "_view_module": "@jupyter-widgets/base",
            "_model_module_version": "1.5.0",
            "_view_count": null,
            "_view_module_version": "1.2.0",
            "bar_color": null,
            "_model_module": "@jupyter-widgets/controls"
          }
        },
        "88f8535d26e64275b9ef0a0d992e2da8": {
          "model_module": "@jupyter-widgets/base",
          "model_name": "LayoutModel",
          "state": {
            "_view_name": "LayoutView",
            "grid_template_rows": null,
            "right": null,
            "justify_content": null,
            "_view_module": "@jupyter-widgets/base",
            "overflow": null,
            "_model_module_version": "1.2.0",
            "_view_count": null,
            "flex_flow": null,
            "width": null,
            "min_width": null,
            "border": null,
            "align_items": null,
            "bottom": null,
            "_model_module": "@jupyter-widgets/base",
            "top": null,
            "grid_column": null,
            "overflow_y": null,
            "overflow_x": null,
            "grid_auto_flow": null,
            "grid_area": null,
            "grid_template_columns": null,
            "flex": null,
            "_model_name": "LayoutModel",
            "justify_items": null,
            "grid_row": null,
            "max_height": null,
            "align_content": null,
            "visibility": null,
            "align_self": null,
            "height": null,
            "min_height": null,
            "padding": null,
            "grid_auto_rows": null,
            "grid_gap": null,
            "max_width": null,
            "order": null,
            "_view_module_version": "1.2.0",
            "grid_template_areas": null,
            "object_position": null,
            "object_fit": null,
            "grid_auto_columns": null,
            "margin": null,
            "display": null,
            "left": null
          }
        },
        "ff704473a48942d68c9a706700c064c9": {
          "model_module": "@jupyter-widgets/controls",
          "model_name": "DescriptionStyleModel",
          "state": {
            "_view_name": "StyleView",
            "_model_name": "DescriptionStyleModel",
            "description_width": "",
            "_view_module": "@jupyter-widgets/base",
            "_model_module_version": "1.5.0",
            "_view_count": null,
            "_view_module_version": "1.2.0",
            "_model_module": "@jupyter-widgets/controls"
          }
        },
        "a68c7b4ea8ec4ef0856946097e02e48e": {
          "model_module": "@jupyter-widgets/base",
          "model_name": "LayoutModel",
          "state": {
            "_view_name": "LayoutView",
            "grid_template_rows": null,
            "right": null,
            "justify_content": null,
            "_view_module": "@jupyter-widgets/base",
            "overflow": null,
            "_model_module_version": "1.2.0",
            "_view_count": null,
            "flex_flow": null,
            "width": null,
            "min_width": null,
            "border": null,
            "align_items": null,
            "bottom": null,
            "_model_module": "@jupyter-widgets/base",
            "top": null,
            "grid_column": null,
            "overflow_y": null,
            "overflow_x": null,
            "grid_auto_flow": null,
            "grid_area": null,
            "grid_template_columns": null,
            "flex": null,
            "_model_name": "LayoutModel",
            "justify_items": null,
            "grid_row": null,
            "max_height": null,
            "align_content": null,
            "visibility": null,
            "align_self": null,
            "height": null,
            "min_height": null,
            "padding": null,
            "grid_auto_rows": null,
            "grid_gap": null,
            "max_width": null,
            "order": null,
            "_view_module_version": "1.2.0",
            "grid_template_areas": null,
            "object_position": null,
            "object_fit": null,
            "grid_auto_columns": null,
            "margin": null,
            "display": null,
            "left": null
          }
        },
        "0ee7f96f66c54bedaeb96cb2aa4cb673": {
          "model_module": "@jupyter-widgets/controls",
          "model_name": "HBoxModel",
          "state": {
            "_view_name": "HBoxView",
            "_dom_classes": [],
            "_model_name": "HBoxModel",
            "_view_module": "@jupyter-widgets/controls",
            "_model_module_version": "1.5.0",
            "_view_count": null,
            "_view_module_version": "1.5.0",
            "box_style": "",
            "layout": "IPY_MODEL_ddfc1eb9385848d79fede441076effbb",
            "_model_module": "@jupyter-widgets/controls",
            "children": [
              "IPY_MODEL_72b1c28256fd44fb9f98d4802c88f47c",
              "IPY_MODEL_08168306677f466cac5f6c5f515a6f5d"
            ]
          }
        },
        "ddfc1eb9385848d79fede441076effbb": {
          "model_module": "@jupyter-widgets/base",
          "model_name": "LayoutModel",
          "state": {
            "_view_name": "LayoutView",
            "grid_template_rows": null,
            "right": null,
            "justify_content": null,
            "_view_module": "@jupyter-widgets/base",
            "overflow": null,
            "_model_module_version": "1.2.0",
            "_view_count": null,
            "flex_flow": null,
            "width": null,
            "min_width": null,
            "border": null,
            "align_items": null,
            "bottom": null,
            "_model_module": "@jupyter-widgets/base",
            "top": null,
            "grid_column": null,
            "overflow_y": null,
            "overflow_x": null,
            "grid_auto_flow": null,
            "grid_area": null,
            "grid_template_columns": null,
            "flex": null,
            "_model_name": "LayoutModel",
            "justify_items": null,
            "grid_row": null,
            "max_height": null,
            "align_content": null,
            "visibility": null,
            "align_self": null,
            "height": null,
            "min_height": null,
            "padding": null,
            "grid_auto_rows": null,
            "grid_gap": null,
            "max_width": null,
            "order": null,
            "_view_module_version": "1.2.0",
            "grid_template_areas": null,
            "object_position": null,
            "object_fit": null,
            "grid_auto_columns": null,
            "margin": null,
            "display": null,
            "left": null
          }
        },
        "72b1c28256fd44fb9f98d4802c88f47c": {
          "model_module": "@jupyter-widgets/controls",
          "model_name": "FloatProgressModel",
          "state": {
            "_view_name": "ProgressView",
            "style": "IPY_MODEL_d976f3a6e397491caec4694f8ec9e6ff",
            "_dom_classes": [],
            "description": "",
            "_model_name": "FloatProgressModel",
            "bar_style": "success",
            "max": 4542,
            "_view_module": "@jupyter-widgets/controls",
            "_model_module_version": "1.5.0",
            "value": 4542,
            "_view_count": null,
            "_view_module_version": "1.5.0",
            "orientation": "horizontal",
            "min": 0,
            "description_tooltip": null,
            "_model_module": "@jupyter-widgets/controls",
            "layout": "IPY_MODEL_b2df782f6703405fb40007f13da4875d"
          }
        },
        "08168306677f466cac5f6c5f515a6f5d": {
          "model_module": "@jupyter-widgets/controls",
          "model_name": "HTMLModel",
          "state": {
            "_view_name": "HTMLView",
            "style": "IPY_MODEL_c3a4839a81ea48528f4d8fda77d9f134",
            "_dom_classes": [],
            "description": "",
            "_model_name": "HTMLModel",
            "placeholder": "​",
            "_view_module": "@jupyter-widgets/controls",
            "_model_module_version": "1.5.0",
            "value": " 5120/? [00:00&lt;00:00, 18700.93it/s]",
            "_view_count": null,
            "_view_module_version": "1.5.0",
            "description_tooltip": null,
            "_model_module": "@jupyter-widgets/controls",
            "layout": "IPY_MODEL_1f9db48c985449e5b5b7daf0c2b6ce5d"
          }
        },
        "d976f3a6e397491caec4694f8ec9e6ff": {
          "model_module": "@jupyter-widgets/controls",
          "model_name": "ProgressStyleModel",
          "state": {
            "_view_name": "StyleView",
            "_model_name": "ProgressStyleModel",
            "description_width": "initial",
            "_view_module": "@jupyter-widgets/base",
            "_model_module_version": "1.5.0",
            "_view_count": null,
            "_view_module_version": "1.2.0",
            "bar_color": null,
            "_model_module": "@jupyter-widgets/controls"
          }
        },
        "b2df782f6703405fb40007f13da4875d": {
          "model_module": "@jupyter-widgets/base",
          "model_name": "LayoutModel",
          "state": {
            "_view_name": "LayoutView",
            "grid_template_rows": null,
            "right": null,
            "justify_content": null,
            "_view_module": "@jupyter-widgets/base",
            "overflow": null,
            "_model_module_version": "1.2.0",
            "_view_count": null,
            "flex_flow": null,
            "width": null,
            "min_width": null,
            "border": null,
            "align_items": null,
            "bottom": null,
            "_model_module": "@jupyter-widgets/base",
            "top": null,
            "grid_column": null,
            "overflow_y": null,
            "overflow_x": null,
            "grid_auto_flow": null,
            "grid_area": null,
            "grid_template_columns": null,
            "flex": null,
            "_model_name": "LayoutModel",
            "justify_items": null,
            "grid_row": null,
            "max_height": null,
            "align_content": null,
            "visibility": null,
            "align_self": null,
            "height": null,
            "min_height": null,
            "padding": null,
            "grid_auto_rows": null,
            "grid_gap": null,
            "max_width": null,
            "order": null,
            "_view_module_version": "1.2.0",
            "grid_template_areas": null,
            "object_position": null,
            "object_fit": null,
            "grid_auto_columns": null,
            "margin": null,
            "display": null,
            "left": null
          }
        },
        "c3a4839a81ea48528f4d8fda77d9f134": {
          "model_module": "@jupyter-widgets/controls",
          "model_name": "DescriptionStyleModel",
          "state": {
            "_view_name": "StyleView",
            "_model_name": "DescriptionStyleModel",
            "description_width": "",
            "_view_module": "@jupyter-widgets/base",
            "_model_module_version": "1.5.0",
            "_view_count": null,
            "_view_module_version": "1.2.0",
            "_model_module": "@jupyter-widgets/controls"
          }
        },
        "1f9db48c985449e5b5b7daf0c2b6ce5d": {
          "model_module": "@jupyter-widgets/base",
          "model_name": "LayoutModel",
          "state": {
            "_view_name": "LayoutView",
            "grid_template_rows": null,
            "right": null,
            "justify_content": null,
            "_view_module": "@jupyter-widgets/base",
            "overflow": null,
            "_model_module_version": "1.2.0",
            "_view_count": null,
            "flex_flow": null,
            "width": null,
            "min_width": null,
            "border": null,
            "align_items": null,
            "bottom": null,
            "_model_module": "@jupyter-widgets/base",
            "top": null,
            "grid_column": null,
            "overflow_y": null,
            "overflow_x": null,
            "grid_auto_flow": null,
            "grid_area": null,
            "grid_template_columns": null,
            "flex": null,
            "_model_name": "LayoutModel",
            "justify_items": null,
            "grid_row": null,
            "max_height": null,
            "align_content": null,
            "visibility": null,
            "align_self": null,
            "height": null,
            "min_height": null,
            "padding": null,
            "grid_auto_rows": null,
            "grid_gap": null,
            "max_width": null,
            "order": null,
            "_view_module_version": "1.2.0",
            "grid_template_areas": null,
            "object_position": null,
            "object_fit": null,
            "grid_auto_columns": null,
            "margin": null,
            "display": null,
            "left": null
          }
        }
      }
    }
  },
  "cells": [
    {
      "cell_type": "markdown",
      "metadata": {
        "id": "FA3HgvMuLFa_"
      },
      "source": [
        "# Homework 10: Neural Networks\n",
        "by Yousif Khaireddin\n",
        "\n",
        "**Due date**: April 28, Wednesday by 11:59pm\n"
      ]
    },
    {
      "cell_type": "markdown",
      "metadata": {
        "id": "3lGwvIL2LWPq"
      },
      "source": [
        "## Setup"
      ]
    },
    {
      "cell_type": "markdown",
      "metadata": {
        "id": "aJca6HvbLYYA"
      },
      "source": [
        "To run and solve this assignment, you must have access to a working Jupyter Notebook installation. We recommend Google Colab. If you are already familiar with Jupyter and have your own installation, you may use it; however, you will have to tweak Colab-specific commands we've entered here (for example, file uploads).\n",
        "\n",
        "To use Google Colab:\n",
        "\n",
        "1. Download this `ipynb` file.\n",
        "2. Navigate to https://colab.research.google.com/ and select `Upload` in the pop-up window.\n",
        "3. Upload this file. It will then open in Colab.\n",
        "\n",
        "The below statements assume that you have already followed these instructions. If you need help with Python syntax, NumPy, or Matplotlib, you might find Week 1 discussion material useful.\n",
        "\n",
        "To run code in a cell or to render Markdown+LaTeX press Ctrl+Enter or \"`Run`\" button above. To edit any code or text cell, double-click on its content. Put your solution into boxes marked with **`[double click here to add a solution]`** and press Ctrl+Enter to render text. You can add cells via `+` sign at the top left corner.\n",
        "\n",
        "**Submission instructions**: please upload your completed solution file as well as a scan of any handwritten answers to Gradescope by **April 28th at midnight**.."
      ]
    },
    {
      "cell_type": "markdown",
      "metadata": {
        "id": "21L6Ct-yWkzB"
      },
      "source": [
        "## **Question 1:** Useful Functions and Setup\n"
      ]
    },
    {
      "cell_type": "code",
      "metadata": {
        "id": "GmPYFTaHWjqG"
      },
      "source": [
        "import torch\n",
        "import torchvision\n",
        "from torchvision import transforms, datasets\n",
        "import torch.nn as nn\n",
        "import torch.nn.functional as F\n",
        "import torch.optim as optim\n",
        "from matplotlib import pyplot as plt\n",
        "\n",
        "device = torch.device(\"cuda:0\" if torch.cuda.is_available() else \"cpu\")"
      ],
      "execution_count": 4,
      "outputs": []
    },
    {
      "cell_type": "markdown",
      "metadata": {
        "id": "qOKHdi56W9ba"
      },
      "source": [
        "### Loading Dataset"
      ]
    },
    {
      "cell_type": "markdown",
      "metadata": {
        "id": "QTJuvHbtXGam"
      },
      "source": [
        "Using the datasets module within torchvision, download the MNIST dataset.\n",
        "1. Download both the training dataset as well as the testing dataset.\n",
        "2. Using _torch.utils.data.random_split_ seperate the training dataset into 50000 training samples and 10000 validation samples "
      ]
    },
    {
      "cell_type": "code",
      "metadata": {
        "id": "sy0TPPOIW0NV",
        "colab": {
          "base_uri": "https://localhost:8080/",
          "height": 837,
          "referenced_widgets": [
            "b1720d4f973f4402b44bd18c33bbba03",
            "42a163781e9e416ca60d2627b2652789",
            "b2427e8152ec4ba8a09a1c017ca8c715",
            "150cbdcda4b14b94b67b19070ea2dfb7",
            "9257e2c221f54c1781767e56edc8af1f",
            "d1bcc28de3534a119dd265291005584c",
            "27486fee734d4ceca2944ed08998cbf3",
            "4f5003d9b47342918def4e757773bcd0",
            "1ca95f8e829c461ebc20f58459de1b5e",
            "037d7c63ef7948dc8a9b05ab8822bd5a",
            "c2f1f024d2c84461b11bbcface530597",
            "1f939a7b033d42a4a685c3ce55fcf3a9",
            "bc1ec876712b48dc8e4d7d899b7ccee3",
            "af8ae24847cd4ba1a57922d77694585b",
            "1d81dfe28fe249b7bb2f7961db13c32a",
            "782fcdf72f974a6dbf08d946592cf526",
            "9f07631bbb844c12a2424287338be23c",
            "cb7446592a9f46cc8c053ba15548c669",
            "7339e03c934943a59f89ec740a2d4357",
            "c416d7159cd944258547faf282637f0b",
            "d0bebf5941aa4d9ab129c9e73ae12787",
            "88f8535d26e64275b9ef0a0d992e2da8",
            "ff704473a48942d68c9a706700c064c9",
            "a68c7b4ea8ec4ef0856946097e02e48e",
            "0ee7f96f66c54bedaeb96cb2aa4cb673",
            "ddfc1eb9385848d79fede441076effbb",
            "72b1c28256fd44fb9f98d4802c88f47c",
            "08168306677f466cac5f6c5f515a6f5d",
            "d976f3a6e397491caec4694f8ec9e6ff",
            "b2df782f6703405fb40007f13da4875d",
            "c3a4839a81ea48528f4d8fda77d9f134",
            "1f9db48c985449e5b5b7daf0c2b6ce5d"
          ]
        },
        "outputId": "83d21ea7-ac73-4788-b7b5-f0091f476c95"
      },
      "source": [
        "transform=transforms.Compose([transforms.ToTensor()])\n",
        "\n",
        "# Training and validation data\n",
        "train_dataset = torchvision.datasets.MNIST(root= './data', train = True, download = True, transform=transform) # CODE\n",
        "train_dataset, val_dataset = torch.utils.data.random_split(dataset = train_dataset, lengths = [50000,10000]) # CODE\n",
        "\n",
        "# Testing data\n",
        "test_dataset = torchvision.datasets.MNIST(root= './data', train = False, download = True, transform=transform) # CODE\n",
        "\n"
      ],
      "execution_count": 5,
      "outputs": [
        {
          "output_type": "stream",
          "text": [
            "Downloading http://yann.lecun.com/exdb/mnist/train-images-idx3-ubyte.gz\n",
            "Failed to download (trying next):\n",
            "HTTP Error 503: Service Unavailable\n",
            "\n",
            "Downloading https://ossci-datasets.s3.amazonaws.com/mnist/train-images-idx3-ubyte.gz\n",
            "Downloading https://ossci-datasets.s3.amazonaws.com/mnist/train-images-idx3-ubyte.gz to ./data/MNIST/raw/train-images-idx3-ubyte.gz\n"
          ],
          "name": "stdout"
        },
        {
          "output_type": "display_data",
          "data": {
            "application/vnd.jupyter.widget-view+json": {
              "model_id": "b1720d4f973f4402b44bd18c33bbba03",
              "version_minor": 0,
              "version_major": 2
            },
            "text/plain": [
              "HBox(children=(FloatProgress(value=0.0, max=9912422.0), HTML(value='')))"
            ]
          },
          "metadata": {
            "tags": []
          }
        },
        {
          "output_type": "stream",
          "text": [
            "\n",
            "Extracting ./data/MNIST/raw/train-images-idx3-ubyte.gz to ./data/MNIST/raw\n",
            "\n",
            "Downloading http://yann.lecun.com/exdb/mnist/train-labels-idx1-ubyte.gz\n",
            "Failed to download (trying next):\n",
            "HTTP Error 503: Service Unavailable\n",
            "\n",
            "Downloading https://ossci-datasets.s3.amazonaws.com/mnist/train-labels-idx1-ubyte.gz\n",
            "Downloading https://ossci-datasets.s3.amazonaws.com/mnist/train-labels-idx1-ubyte.gz to ./data/MNIST/raw/train-labels-idx1-ubyte.gz\n"
          ],
          "name": "stdout"
        },
        {
          "output_type": "display_data",
          "data": {
            "application/vnd.jupyter.widget-view+json": {
              "model_id": "1ca95f8e829c461ebc20f58459de1b5e",
              "version_minor": 0,
              "version_major": 2
            },
            "text/plain": [
              "HBox(children=(FloatProgress(value=0.0, max=28881.0), HTML(value='')))"
            ]
          },
          "metadata": {
            "tags": []
          }
        },
        {
          "output_type": "stream",
          "text": [
            "\n",
            "Extracting ./data/MNIST/raw/train-labels-idx1-ubyte.gz to ./data/MNIST/raw\n",
            "\n",
            "Downloading http://yann.lecun.com/exdb/mnist/t10k-images-idx3-ubyte.gz\n",
            "Failed to download (trying next):\n",
            "HTTP Error 503: Service Unavailable\n",
            "\n",
            "Downloading https://ossci-datasets.s3.amazonaws.com/mnist/t10k-images-idx3-ubyte.gz\n",
            "Downloading https://ossci-datasets.s3.amazonaws.com/mnist/t10k-images-idx3-ubyte.gz to ./data/MNIST/raw/t10k-images-idx3-ubyte.gz\n"
          ],
          "name": "stdout"
        },
        {
          "output_type": "display_data",
          "data": {
            "application/vnd.jupyter.widget-view+json": {
              "model_id": "9f07631bbb844c12a2424287338be23c",
              "version_minor": 0,
              "version_major": 2
            },
            "text/plain": [
              "HBox(children=(FloatProgress(value=0.0, max=1648877.0), HTML(value='')))"
            ]
          },
          "metadata": {
            "tags": []
          }
        },
        {
          "output_type": "stream",
          "text": [
            "\n",
            "Extracting ./data/MNIST/raw/t10k-images-idx3-ubyte.gz to ./data/MNIST/raw\n",
            "\n",
            "Downloading http://yann.lecun.com/exdb/mnist/t10k-labels-idx1-ubyte.gz\n",
            "Failed to download (trying next):\n",
            "HTTP Error 503: Service Unavailable\n",
            "\n",
            "Downloading https://ossci-datasets.s3.amazonaws.com/mnist/t10k-labels-idx1-ubyte.gz\n",
            "Downloading https://ossci-datasets.s3.amazonaws.com/mnist/t10k-labels-idx1-ubyte.gz to ./data/MNIST/raw/t10k-labels-idx1-ubyte.gz\n"
          ],
          "name": "stdout"
        },
        {
          "output_type": "display_data",
          "data": {
            "application/vnd.jupyter.widget-view+json": {
              "model_id": "0ee7f96f66c54bedaeb96cb2aa4cb673",
              "version_minor": 0,
              "version_major": 2
            },
            "text/plain": [
              "HBox(children=(FloatProgress(value=0.0, max=4542.0), HTML(value='')))"
            ]
          },
          "metadata": {
            "tags": []
          }
        },
        {
          "output_type": "stream",
          "text": [
            "\n",
            "Extracting ./data/MNIST/raw/t10k-labels-idx1-ubyte.gz to ./data/MNIST/raw\n",
            "\n",
            "Processing...\n",
            "Done!\n"
          ],
          "name": "stdout"
        },
        {
          "output_type": "stream",
          "text": [
            "/usr/local/lib/python3.7/dist-packages/torchvision/datasets/mnist.py:502: UserWarning: The given NumPy array is not writeable, and PyTorch does not support non-writeable tensors. This means you can write to the underlying (supposedly non-writeable) NumPy array using the tensor. You may want to copy the array to protect its data or make it writeable before converting it to a tensor. This type of warning will be suppressed for the rest of this program. (Triggered internally at  /pytorch/torch/csrc/utils/tensor_numpy.cpp:143.)\n",
            "  return torch.from_numpy(parsed.astype(m[2], copy=False)).view(*s)\n"
          ],
          "name": "stderr"
        }
      ]
    },
    {
      "cell_type": "code",
      "metadata": {
        "colab": {
          "base_uri": "https://localhost:8080/"
        },
        "id": "UHpxRhffW2S0",
        "outputId": "0734e054-86cb-4725-a08d-1bc17eee9151"
      },
      "source": [
        "print(\"Number of Training Samples:\", len(train_dataset), sep='\\t')\n",
        "print(\"Number of Validation Samples:\", len(val_dataset), sep='\\t')\n",
        "print(\"Number of Testing Samples:\", len(test_dataset), sep='\\t')"
      ],
      "execution_count": 6,
      "outputs": [
        {
          "output_type": "stream",
          "text": [
            "Number of Training Samples:\t50000\n",
            "Number of Validation Samples:\t10000\n",
            "Number of Testing Samples:\t10000\n"
          ],
          "name": "stdout"
        }
      ]
    },
    {
      "cell_type": "markdown",
      "metadata": {
        "id": "bbdb_rMIXtnl"
      },
      "source": [
        "Build your dataloaders using the datasets above. Make sure to use a batchsize of 64 and to shuffle your dataset."
      ]
    },
    {
      "cell_type": "code",
      "metadata": {
        "colab": {
          "base_uri": "https://localhost:8080/"
        },
        "id": "BBb-AgXILscc",
        "outputId": "19107ebb-5857-4f5b-8e3b-005a1b881a95"
      },
      "source": [
        "# Creating Dataloaders\n",
        "trainloader = torch.utils.data.DataLoader(train_dataset,batch_size=64,shuffle=True) # CODE\n",
        "valloader = torch.utils.data.DataLoader(val_dataset,batch_size=64,shuffle=True) # CODE\n",
        "testloader = torch.utils.data.DataLoader(test_dataset,batch_size=64,shuffle=True) # CODE\n",
        "\n",
        "print(\"Number of Training Batches:\", len(trainloader), sep='\\t')\n",
        "print(\"Number of Validation Batches:\", len(valloader), sep='\\t')\n",
        "print(\"Number of Testing Batches:\", len(testloader), sep='\\t')"
      ],
      "execution_count": 7,
      "outputs": [
        {
          "output_type": "stream",
          "text": [
            "Number of Training Batches:\t782\n",
            "Number of Validation Batches:\t157\n",
            "Number of Testing Batches:\t157\n"
          ],
          "name": "stdout"
        }
      ]
    },
    {
      "cell_type": "markdown",
      "metadata": {
        "id": "i7wz8deJX--T"
      },
      "source": [
        "### Important functions"
      ]
    },
    {
      "cell_type": "markdown",
      "metadata": {
        "id": "uAOkWQCHYBo6"
      },
      "source": [
        "Complete the function `train(net, dataloader, criterion, optimizer)` which will train a given network for 1 whole epoch using a given dataloader.\n",
        "\n",
        "This function will iterate through the dataloader, compute the network outputs, the loss, backpropagage to update the networks weights, and return the accuracy and average loss across the dataloader\n",
        "\n",
        "Ensure to setup the network in training mode using the .train() attribute built by pytorch."
      ]
    },
    {
      "cell_type": "code",
      "metadata": {
        "id": "Hn5dfDohL_Yr"
      },
      "source": [
        "def train(net, dataloader, criterion, optimizer):\n",
        "    net = net.train()\n",
        "    loss_tr, correct_count, n_samples = 0.0, 0.0, 0.0\n",
        "    \n",
        "    for i, data in enumerate(dataloader):\n",
        "        inputs, labels = data\n",
        "        inputs, labels = inputs.to(device), labels.to(device)\n",
        "        # print(labels)\n",
        "        # print(inputs)\n",
        "        n_samples += labels.shape[0]\n",
        "\n",
        "        # zero the parameter gradients\n",
        "        # CODE\n",
        "        net.zero_grad()\n",
        "        \n",
        "        # forward + backward + optimize\n",
        "        # CODE:\n",
        "\n",
        "        # forward\n",
        "        outputs = net(inputs)\n",
        "        # print(outputs)\n",
        "\n",
        "        lossTemp = criterion(outputs, labels)\n",
        "        # backward\n",
        "        lossTemp.backward(retain_graph=True)\n",
        "\n",
        "        # optimizer\n",
        "        optimizer.step()\n",
        "        \n",
        "        # store / calculate performance metrics (acc, loss)\n",
        "        # CODE\n",
        "        loss_tr += lossTemp.item()\n",
        "\n",
        "        prediction, index = torch.max(outputs, 1)\n",
        "        correct_count += sum(index == labels)\n",
        "\n",
        "    # print(n_samples)\n",
        "    # print(correct_count)\n",
        "    acc = 100 * correct_count / n_samples\n",
        "    loss = loss_tr / n_samples\n",
        "\n",
        "    return acc, loss"
      ],
      "execution_count": 52,
      "outputs": []
    },
    {
      "cell_type": "markdown",
      "metadata": {
        "id": "9w8IH2TgYtvA"
      },
      "source": [
        "Complete the function `evaluate(net, dataloader, criterion)` which will evauate a given network's performance across a given dataloader\n",
        "\n",
        "This function will iterate through the dataloader, compute the network outputs, the loss, and return the accuracy and average loss across the dataloader.\n",
        "\n",
        "Ensure to setup the network in validation mode using the .eval() attribute built by pytorch."
      ]
    },
    {
      "cell_type": "code",
      "metadata": {
        "id": "gmSATkk0MeyZ"
      },
      "source": [
        "def evaluate(net, dataloader, criterion):\n",
        "    net = net.eval()\n",
        "    loss_tr, correct_count, n_samples = 0.0, 0.0, 0.0\n",
        "    \n",
        "    for data in dataloader:\n",
        "        inputs, labels = data\n",
        "        inputs, labels = inputs.to(device), labels.to(device)\n",
        "\n",
        "        n_samples += labels.shape[0]\n",
        "\n",
        "        # compute network predictions\n",
        "        # CODE\n",
        "        # forward\n",
        "        outputs = net(inputs)\n",
        "\n",
        "        # calculate performance metrics (acc, loss)\n",
        "        # CODE\n",
        "        loss_tr += criterion(outputs, labels).item()\n",
        "\n",
        "        prediction, index = torch.max(outputs, 1)\n",
        "        correct_count += sum(index == labels)\n",
        "\n",
        "\n",
        "    acc = 100 * correct_count / n_samples\n",
        "    loss = loss_tr / n_samples\n",
        "\n",
        "    return acc, loss"
      ],
      "execution_count": 45,
      "outputs": []
    },
    {
      "cell_type": "markdown",
      "metadata": {
        "id": "Y_3JbqJdljba"
      },
      "source": [
        "Complete the function `count_parameters(model)` which should count the number of trainable parameters in a network."
      ]
    },
    {
      "cell_type": "code",
      "metadata": {
        "id": "Vfjqm98wliyq"
      },
      "source": [
        "def count_parameters(model):\n",
        "    count = 0\n",
        "    params = model.parameters()\n",
        "    for parameter in params:\n",
        "      if parameter.requires_grad:\n",
        "        count += torch.numel(parameter) # CODE\n",
        "\n",
        "    return count"
      ],
      "execution_count": 10,
      "outputs": []
    },
    {
      "cell_type": "markdown",
      "metadata": {
        "id": "sHTlqg-ynxuw"
      },
      "source": [
        "The following function will be used to create plots of your performance metrics.\n"
      ]
    },
    {
      "cell_type": "code",
      "metadata": {
        "id": "GLrYdvYcnj_w"
      },
      "source": [
        "def plot_metrics(train_acc, train_loss, val_acc, val_loss):\n",
        "    plt.figure()\n",
        "    plt.plot(train_acc, 'g', label='Training Acc')\n",
        "    plt.plot(val_acc, 'b', label='Validation Acc')\n",
        "    plt.title('Accuracy')\n",
        "    plt.xlabel('Epoch')\n",
        "    plt.ylabel('Acc')\n",
        "    plt.legend()\n",
        "    plt.grid()\n",
        "    plt.show()\n",
        "\n",
        "    plt.figure()\n",
        "    plt.plot(train_loss, 'g', label='Training Loss')\n",
        "    plt.plot(val_loss, 'b', label='Validation Loss')\n",
        "    plt.title('Loss')\n",
        "    plt.xlabel('Epoch')\n",
        "    plt.ylabel('Loss')\n",
        "    plt.legend()\n",
        "    plt.grid()\n",
        "    plt.show()"
      ],
      "execution_count": 11,
      "outputs": []
    },
    {
      "cell_type": "markdown",
      "metadata": {
        "id": "KvMsX7ULLiZi"
      },
      "source": [
        "## **Question 2:** Dense Networks\n",
        "\n",
        "**Note:**\n",
        "In solving the following sections, it is possible very likely that your results do not match ours exactly. This is due to the randomization in initilizations. What is important is that they are within the margins we set when defining the problem. "
      ]
    },
    {
      "cell_type": "markdown",
      "metadata": {
        "id": "0QN0isnZalFE"
      },
      "source": [
        "### Initial Performance"
      ]
    },
    {
      "cell_type": "markdown",
      "metadata": {
        "id": "yAWgb_xhZL9p"
      },
      "source": [
        "Recall from the discussion session, we provided you with the following fully connected (dense) network.\n"
      ]
    },
    {
      "cell_type": "code",
      "metadata": {
        "colab": {
          "base_uri": "https://localhost:8080/"
        },
        "id": "jDORbAZ3Lycf",
        "outputId": "0ee5da67-2d79-4ce4-cce8-75c6d1c76680"
      },
      "source": [
        "class Dense(nn.Module):\n",
        "    # What does your model contain\n",
        "    def __init__(self):\n",
        "        super().__init__()\n",
        "        self.fc1 = nn.Linear(28*28, 64)\n",
        "        self.fc2 = nn.Linear(64, 64)\n",
        "        self.fc3 = nn.Linear(64, 64)\n",
        "        self.fc4 = nn.Linear(64, 10)    # 10 classes\n",
        "    \n",
        "    # This is how data moves when passed to your model\n",
        "    def forward(self, x):\n",
        "        x = x.view(-1, 28*28)   # Flatten\n",
        "        x = F.relu(self.fc1(x)) # Pass through layers\n",
        "        x = F.relu(self.fc2(x))\n",
        "        x = F.relu(self.fc3(x))\n",
        "        x = F.log_softmax(self.fc4(x), dim=1)   # soft max \n",
        "        \n",
        "        return x\n",
        "\n",
        "dense = Dense().to(device)\n",
        "\n",
        "print(\"Model Architecture\")\n",
        "print(dense)\n",
        "print(\"Number of parameters:\", count_parameters(dense))"
      ],
      "execution_count": 17,
      "outputs": [
        {
          "output_type": "stream",
          "text": [
            "Model Architecture\n",
            "Dense(\n",
            "  (fc1): Linear(in_features=784, out_features=64, bias=True)\n",
            "  (fc2): Linear(in_features=64, out_features=64, bias=True)\n",
            "  (fc3): Linear(in_features=64, out_features=64, bias=True)\n",
            "  (fc4): Linear(in_features=64, out_features=10, bias=True)\n",
            ")\n",
            "Number of parameters: 59210\n"
          ],
          "name": "stdout"
        }
      ]
    },
    {
      "cell_type": "markdown",
      "metadata": {
        "id": "xmhDgBUgZo1-"
      },
      "source": [
        "Complete the following code to train the network above for 3 epochs.\n",
        "1. For your optimizer, use stochatic gradient descent with a learning rate of 0.001\n",
        "2. For your criterion (loss function) use Cross Entropy Loss (the one built by pytorch)\n",
        "\n",
        "**Note:** We are expecting bad performance here using the above mentioned parameters."
      ]
    },
    {
      "cell_type": "code",
      "metadata": {
        "id": "LSTiaq2BL1Qg",
        "colab": {
          "base_uri": "https://localhost:8080/"
        },
        "outputId": "4ff2b18d-2e91-420c-fc33-8e52a5ff9246"
      },
      "source": [
        "optimizer = optim.SGD(params=dense.parameters(), lr=.001) # CODE\n",
        "criterion = nn.CrossEntropyLoss() # CODE\n",
        "\n",
        "train_acc, train_loss = [],[]\n",
        "val_acc, val_loss = [],[]\n",
        "\n",
        "print(\"Training on\", device)\n",
        "for epoch in range(3):\n",
        "    \n",
        "    acc_tr, loss_tr = train(dense, trainloader, criterion, optimizer)\n",
        "    train_loss.append(loss_tr)\n",
        "    train_acc.append(acc_tr)\n",
        "\n",
        "    acc_v, loss_v = evaluate(dense, valloader, criterion)\n",
        "    val_loss.append(loss_v)\n",
        "    val_acc.append(acc_v)\n",
        "\n",
        "    print('Epoch %2d' % (epoch + 1),\n",
        "            'Train Accuracy: %2.2f %%' % acc_tr,\n",
        "            'Val Accuracy: %2.2f' % acc_v,\n",
        "            sep='\\t\\t')"
      ],
      "execution_count": 20,
      "outputs": [
        {
          "output_type": "stream",
          "text": [
            "Training on cuda:0\n",
            "Epoch  1\t\tTrain Accuracy: 12.79 %\t\tVal Accuracy: 15.32\n",
            "Epoch  2\t\tTrain Accuracy: 19.24 %\t\tVal Accuracy: 23.86\n",
            "Epoch  3\t\tTrain Accuracy: 30.73 %\t\tVal Accuracy: 34.59\n"
          ],
          "name": "stdout"
        }
      ]
    },
    {
      "cell_type": "markdown",
      "metadata": {
        "id": "GuulZlD3xGwD"
      },
      "source": [
        "Plot your peroformance using `plot_metrics` then evaluate your performance on the testloader / testset\n",
        "\n"
      ]
    },
    {
      "cell_type": "code",
      "metadata": {
        "id": "-p36C6a9atGE",
        "colab": {
          "base_uri": "https://localhost:8080/",
          "height": 590
        },
        "outputId": "7e3e73b5-e3f7-45af-8e02-085b4e7bb3d1"
      },
      "source": [
        "plot_metrics(train_acc, train_loss, val_acc, val_loss)\n",
        "\n",
        "acc_test, loss_test = evaluate(dense, testloader, criterion) # CODE\n",
        "print('Test Accuracy: %2.2f %%' % acc_test,\n",
        "        'Test Loss: %2.6f' % loss_test,\n",
        "        sep='\\t\\t')"
      ],
      "execution_count": 21,
      "outputs": [
        {
          "output_type": "display_data",
          "data": {
            "image/png": "[encoded data removed]",
            "text/plain": [
              "<Figure size 432x288 with 1 Axes>"
            ]
          },
          "metadata": {
            "tags": [],
            "needs_background": "light"
          }
        },
        {
          "output_type": "display_data",
          "data": {
            "image/png": "[encoded data removed]",
            "text/plain": [
              "<Figure size 432x288 with 1 Axes>"
            ]
          },
          "metadata": {
            "tags": [],
            "needs_background": "light"
          }
        },
        {
          "output_type": "stream",
          "text": [
            "Test Accuracy: 35.45 %\t\tTest Loss: 0.035306\n"
          ],
          "name": "stdout"
        }
      ]
    },
    {
      "cell_type": "markdown",
      "metadata": {
        "id": "jtsiV2P7arfv"
      },
      "source": [
        "### Tuned Performance"
      ]
    },
    {
      "cell_type": "markdown",
      "metadata": {
        "id": "YPD5fh7TazWD"
      },
      "source": [
        "Vary any parameters you would like in the model's architecture (number of layers, hidden units, activation functions) or the training parameters (number of epochs, optimizer, learning rate, weight decay, momentum) to improve your initial performance. \n",
        "\n",
        "**Notes and requirements:** \n",
        "- The minimum acceptable test accuracy is 90%\n",
        "- If you run your network multiple times it is possible to get very different results with each run. This is due to the random initializations.\n",
        "- You are required to note down 5 significant changes you have experimented with and explain how these changes impacted your performance and your understanding as to why this is the case.\n",
        "- Keep your best performing model / training method and create the same plots and testing performance from above. "
      ]
    },
    {
      "cell_type": "code",
      "metadata": {
        "id": "XcembImnaxFl",
        "colab": {
          "base_uri": "https://localhost:8080/"
        },
        "outputId": "5c9f5123-b29d-43f0-fc35-d258668ffcad"
      },
      "source": [
        "class TunedDense(nn.Module):\n",
        "    # What does your model contain\n",
        "    def __init__(self):\n",
        "        super().__init__()\n",
        "        self.fc1 = nn.Linear(28*28, 64)\n",
        "        self.fc2 = nn.Linear(64, 64)\n",
        "        self.fc3 = nn.Linear(64, 64)\n",
        "        self.fc4 = nn.Linear(64, 64)    # 10 classes\n",
        "        self.fc5 = nn.Linear(64, 64)\n",
        "        self.fc6 = nn.Linear(64, 10)\n",
        "    \n",
        "    # This is how data moves when passed to your model\n",
        "    def forward(self, x):\n",
        "        x = x.view(-1, 28*28)   # Flatten\n",
        "        x = F.relu(self.fc1(x)) # Pass through layers\n",
        "        x = F.relu(self.fc2(x))\n",
        "        x = F.relu(self.fc3(x))\n",
        "        x = F.relu(self.fc4(x))\n",
        "        x = F.relu(self.fc5(x))\n",
        "        x = F.log_softmax(self.fc4(x), dim=1)   # soft max \n",
        "        \n",
        "        return x\n",
        "\n",
        "tuned_dense = TunedDense().to(device)\n",
        "\n",
        "print(\"Model Architecture\")\n",
        "print(tuned_dense)\n",
        "print(\"Number of parameters:\", count_parameters(tuned_dense))"
      ],
      "execution_count": 33,
      "outputs": [
        {
          "output_type": "stream",
          "text": [
            "Model Architecture\n",
            "TunedDense(\n",
            "  (fc1): Linear(in_features=784, out_features=64, bias=True)\n",
            "  (fc2): Linear(in_features=64, out_features=64, bias=True)\n",
            "  (fc3): Linear(in_features=64, out_features=64, bias=True)\n",
            "  (fc4): Linear(in_features=64, out_features=64, bias=True)\n",
            "  (fc5): Linear(in_features=64, out_features=64, bias=True)\n",
            "  (fc6): Linear(in_features=64, out_features=10, bias=True)\n",
            ")\n",
            "Number of parameters: 67530\n"
          ],
          "name": "stdout"
        }
      ]
    },
    {
      "cell_type": "code",
      "metadata": {
        "id": "_Rsd082CbL0L",
        "colab": {
          "base_uri": "https://localhost:8080/"
        },
        "outputId": "45806bc2-2e17-4a00-c8c5-0a36092abb3f"
      },
      "source": [
        "optimizer = optim.SGD(params=tuned_dense.parameters(), lr=.01) # CODE\n",
        "criterion = nn.CrossEntropyLoss() # CODE\n",
        "\n",
        "train_acc, train_loss = [],[]\n",
        "val_acc, val_loss = [],[]\n",
        "\n",
        "print(\"Training on\", device)\n",
        "for epoch in range(10):\n",
        "    \n",
        "    acc_tr, loss_tr = train(tuned_dense, trainloader, criterion, optimizer)\n",
        "    train_loss.append(loss_tr)\n",
        "    train_acc.append(acc_tr)\n",
        "\n",
        "    acc_v, loss_v = evaluate(tuned_dense, valloader, criterion)\n",
        "    val_loss.append(loss_v)\n",
        "    val_acc.append(acc_v)\n",
        "\n",
        "    print('Epoch %2d' % (epoch + 1),\n",
        "            'Train Accuracy: %2.2f %%' % acc_tr,\n",
        "            'Val Accuracy: %2.2f' % acc_v,\n",
        "            sep='\\t\\t')"
      ],
      "execution_count": 34,
      "outputs": [
        {
          "output_type": "stream",
          "text": [
            "Training on cuda:0\n",
            "Epoch  1\t\tTrain Accuracy: 11.29 %\t\tVal Accuracy: 9.46\n",
            "Epoch  2\t\tTrain Accuracy: 12.67 %\t\tVal Accuracy: 10.12\n",
            "Epoch  3\t\tTrain Accuracy: 20.95 %\t\tVal Accuracy: 18.94\n",
            "Epoch  4\t\tTrain Accuracy: 32.60 %\t\tVal Accuracy: 37.42\n",
            "Epoch  5\t\tTrain Accuracy: 55.84 %\t\tVal Accuracy: 61.59\n",
            "Epoch  6\t\tTrain Accuracy: 74.87 %\t\tVal Accuracy: 78.45\n",
            "Epoch  7\t\tTrain Accuracy: 82.94 %\t\tVal Accuracy: 85.68\n",
            "Epoch  8\t\tTrain Accuracy: 87.14 %\t\tVal Accuracy: 85.35\n",
            "Epoch  9\t\tTrain Accuracy: 89.90 %\t\tVal Accuracy: 89.55\n",
            "Epoch 10\t\tTrain Accuracy: 91.63 %\t\tVal Accuracy: 91.71\n"
          ],
          "name": "stdout"
        }
      ]
    },
    {
      "cell_type": "markdown",
      "metadata": {
        "id": "7Beo9PHUxUm1"
      },
      "source": [
        "Plot your peroformance using `plot_metrics` then evaluate your performance on the testloader / testset\n",
        "\n"
      ]
    },
    {
      "cell_type": "code",
      "metadata": {
        "id": "ZtQcDxKKL5xV",
        "colab": {
          "base_uri": "https://localhost:8080/",
          "height": 590
        },
        "outputId": "3011cee3-889e-4d45-caf3-3ba6b8e1d3d4"
      },
      "source": [
        "plot_metrics(train_acc, train_loss, val_acc, val_loss)\n",
        "\n",
        "acc_test, loss_test = evaluate(tuned_dense, testloader, criterion) # CODE\n",
        "print('Test Accuracy: %2.2f %%' % acc_test,\n",
        "        'Test Loss: %2.6f' % loss_test,\n",
        "        sep='\\t\\t')"
      ],
      "execution_count": 36,
      "outputs": [
        {
          "output_type": "display_data",
          "data": {
            "image/png": "[encoded data removed]",
            "text/plain": [
              "<Figure size 432x288 with 1 Axes>"
            ]
          },
          "metadata": {
            "tags": [],
            "needs_background": "light"
          }
        },
        {
          "output_type": "display_data",
          "data": {
            "image/png": "[encoded data removed]",
            "text/plain": [
              "<Figure size 432x288 with 1 Axes>"
            ]
          },
          "metadata": {
            "tags": [],
            "needs_background": "light"
          }
        },
        {
          "output_type": "stream",
          "text": [
            "Test Accuracy: 92.08 %\t\tTest Loss: 0.004568\n"
          ],
          "name": "stdout"
        }
      ]
    },
    {
      "cell_type": "markdown",
      "metadata": {
        "id": "SuaDzZtAqsh5"
      },
      "source": [
        "**Experiementations and explainations:**\n",
        "\n",
        "I started by playing around with the learning rate, finding a value of .01 was most accurate for the 10 epochs we allow to run. A value of .001 was too slow and did not approach the minimum fast enough during SGD. .1 was too large and may have overshot the minimum. The value .01 seemed to most accurately approximate the minimum. I also added two layers to my network, which greatly increased my accuracies. I also tried changing the momentum and weight_decay parameters but was not able to get a significant improvement in accuracy.\n"
      ]
    },
    {
      "cell_type": "markdown",
      "metadata": {
        "id": "ZvJTJwPfiJuh"
      },
      "source": [
        "## **Question 3:** Convolutional  Neural Networks\n",
        "\n"
      ]
    },
    {
      "cell_type": "markdown",
      "metadata": {
        "id": "vGNq6kO9t5dO"
      },
      "source": [
        "Using pytorch, build a 2d convolutional neural network with the following architecture.\n",
        "\n",
        "1. 2D Convolution mapping the 1 x L x W input to 64 feature maps\n",
        "2. 2D Convolution mapping the 64 x L x W features to 32 feature maps\n",
        "\n",
        "3. Flatten the output\n",
        "3. A dense layer mapping the flattened output to 16 nodes\n",
        "4. A final dense layer mapping the 16 nodes to 10 classes\n",
        "\n",
        "Each convolutional layer should be followed by a relu activation function then a 2D maxpool of `kernel_size` 2 and `stride` of 2\n",
        "\n",
        "Each dense layer should be followed by a relu activation"
      ]
    },
    {
      "cell_type": "code",
      "metadata": {
        "id": "MEkXK7GWiqpB",
        "colab": {
          "base_uri": "https://localhost:8080/"
        },
        "outputId": "0d16f954-bb78-4841-80d2-c1ce31d85c1b"
      },
      "source": [
        "class CNN(nn.Module):\n",
        "    def __init__(self):\n",
        "        super(CNN, self).__init__()\n",
        "        # CODE\n",
        "        self.c1 = nn.Conv2d(1,64,kernel_size=3, padding=1)\n",
        "        self.c2 = nn.Conv2d(64,32,kernel_size=3,padding=1)\n",
        "        self.fc1 = nn.Linear(32*7*7,16)\n",
        "        self.fc2 = nn.Linear(16, 10)\n",
        "        self.p1 = nn.MaxPool2d(kernel_size=2,stride=2)\n",
        "        self.p2 = nn.MaxPool2d(kernel_size=2,stride=2)\n",
        "\n",
        "    def forward(self, x):\n",
        "        # CODE\n",
        "        x = F.relu(self.c1(x))\n",
        "        x = self.p1(x)\n",
        "        x = F.relu(self.c2(x))\n",
        "        x = self.p2(x)\n",
        "        x = x.view(-1,32*7*7)\n",
        "        x = F.relu(self.fc1(x))\n",
        "        x = F.relu(self.fc2(x))\n",
        "        \n",
        "        return x\n",
        "\n",
        "cnn = CNN().to(device)\n",
        "\n",
        "print(\"Model Architecture\")\n",
        "print(cnn)\n",
        "print(\"Number of parameters:\", count_parameters(cnn))"
      ],
      "execution_count": 63,
      "outputs": [
        {
          "output_type": "stream",
          "text": [
            "Model Architecture\n",
            "CNN(\n",
            "  (c1): Conv2d(1, 64, kernel_size=(3, 3), stride=(1, 1), padding=(1, 1))\n",
            "  (c2): Conv2d(64, 32, kernel_size=(3, 3), stride=(1, 1), padding=(1, 1))\n",
            "  (fc1): Linear(in_features=1568, out_features=16, bias=True)\n",
            "  (fc2): Linear(in_features=16, out_features=10, bias=True)\n",
            "  (p1): MaxPool2d(kernel_size=2, stride=2, padding=0, dilation=1, ceil_mode=False)\n",
            "  (p2): MaxPool2d(kernel_size=2, stride=2, padding=0, dilation=1, ceil_mode=False)\n",
            ")\n",
            "Number of parameters: 44378\n"
          ],
          "name": "stdout"
        }
      ]
    },
    {
      "cell_type": "markdown",
      "metadata": {
        "id": "NYYFhhQku67Z"
      },
      "source": [
        "Complete the following code to train the network above for 10 epochs.\n",
        "1. For your optimizer, use stochatic gradient descent (you may change this later if you would like)\n",
        "\n",
        "2. For your criterion (loss function) use Cross Entropy Loss (the one built by pytorch)\n",
        "\n",
        "**Notes and requirements:** \n",
        "- The minimum acceptable test accuracy is 90%\n",
        "- If you run your network multiple times it is possible to get very different results with each run. This is due to the random initializations.\n",
        "- You are welcome to experiment with the CNN architecture and anything else you want. You are required to experiment with different values for `learning_rate`, `momentum`, and `weight_decay` in your optimizer to improve your performance.\n",
        "- Note down your experimentations and explain how these changes impacted your performance and your understanding as to why this is the case.\n",
        "- Keep your best performing model / training method and create the same plots and testing performance as before."
      ]
    },
    {
      "cell_type": "code",
      "metadata": {
        "id": "xSu0ahzmi5kX",
        "colab": {
          "base_uri": "https://localhost:8080/"
        },
        "outputId": "a7e838cc-c230-465a-ca91-171e6ea83143"
      },
      "source": [
        "optimizer = optim.SGD(params=cnn.parameters(), lr=.01, momentum=.5, weight_decay=.001) # CODE\n",
        "criterion = nn.CrossEntropyLoss() # CODE\n",
        "\n",
        "train_acc, train_loss = [], []\n",
        "val_acc, val_loss = [], []\n",
        "\n",
        "print(\"Training on\", device)\n",
        "for epoch in range(10):\n",
        "    \n",
        "    acc_tr, loss_tr = train(cnn, trainloader, criterion, optimizer)\n",
        "    train_loss.append(loss_tr)\n",
        "    train_acc.append(acc_tr)\n",
        "\n",
        "    acc_v, loss_v = evaluate(cnn, valloader, criterion)\n",
        "    val_loss.append(loss_v)\n",
        "    val_acc.append(acc_v)\n",
        "\n",
        "    print('Epoch %2d' % (epoch + 1),\n",
        "            'Train Accuracy: %2.2f %%' % acc_tr,\n",
        "            'Val Accuracy: %2.2f' % acc_v,\n",
        "            sep='\\t\\t')"
      ],
      "execution_count": 64,
      "outputs": [
        {
          "output_type": "stream",
          "text": [
            "Training on cuda:0\n",
            "Epoch  1\t\tTrain Accuracy: 55.72 %\t\tVal Accuracy: 87.48\n",
            "Epoch  2\t\tTrain Accuracy: 91.87 %\t\tVal Accuracy: 93.89\n",
            "Epoch  3\t\tTrain Accuracy: 95.09 %\t\tVal Accuracy: 95.91\n",
            "Epoch  4\t\tTrain Accuracy: 96.30 %\t\tVal Accuracy: 96.28\n",
            "Epoch  5\t\tTrain Accuracy: 96.93 %\t\tVal Accuracy: 97.24\n",
            "Epoch  6\t\tTrain Accuracy: 97.32 %\t\tVal Accuracy: 97.64\n",
            "Epoch  7\t\tTrain Accuracy: 97.60 %\t\tVal Accuracy: 97.53\n",
            "Epoch  8\t\tTrain Accuracy: 97.72 %\t\tVal Accuracy: 97.89\n",
            "Epoch  9\t\tTrain Accuracy: 97.96 %\t\tVal Accuracy: 98.12\n",
            "Epoch 10\t\tTrain Accuracy: 98.07 %\t\tVal Accuracy: 98.02\n"
          ],
          "name": "stdout"
        }
      ]
    },
    {
      "cell_type": "markdown",
      "metadata": {
        "id": "7OqvBcilxaKG"
      },
      "source": [
        "Plot your peroformance using `plot_metrics` then evaluate your performance on the testloader / testset"
      ]
    },
    {
      "cell_type": "code",
      "metadata": {
        "id": "j6csYiqqjjMi",
        "colab": {
          "base_uri": "https://localhost:8080/",
          "height": 590
        },
        "outputId": "1573e1c1-8e04-4d1b-ec36-2bc526794677"
      },
      "source": [
        "plot_metrics(train_acc, train_loss, val_acc, val_loss)\n",
        "\n",
        "acc_test, loss_test = evaluate(cnn, testloader, criterion) # CODE\n",
        "print('Test Accuracy: %2.2f %%' % acc_test,\n",
        "        'Test Loss: %2.6f' % loss_test,\n",
        "        sep='\\t\\t')"
      ],
      "execution_count": 65,
      "outputs": [
        {
          "output_type": "display_data",
          "data": {
            "image/png": "[encoded data removed]",
            "text/plain": [
              "<Figure size 432x288 with 1 Axes>"
            ]
          },
          "metadata": {
            "tags": [],
            "needs_background": "light"
          }
        },
        {
          "output_type": "display_data",
          "data": {
            "image/png": "[encoded data removed]",
            "text/plain": [
              "<Figure size 432x288 with 1 Axes>"
            ]
          },
          "metadata": {
            "tags": [],
            "needs_background": "light"
          }
        },
        {
          "output_type": "stream",
          "text": [
            "Test Accuracy: 98.19 %\t\tTest Loss: 0.000855\n"
          ],
          "name": "stdout"
        }
      ]
    },
    {
      "cell_type": "markdown",
      "metadata": {
        "id": "vLuI_jUTv1Cf"
      },
      "source": [
        "**Experiementations and explainations:**\n",
        "\n",
        "In order to tune my CNN, I changed my learning rate to .01 in order to approach the minimum faster (using fewer iterations). I then changed my weight decay to .001 in order to preserve my learning rate's fast pace and approach the minimum as fast as possible during SGD. I also played around with the momentum, finding a value of .5 increased my accuracy. \n"
      ]
    },
    {
      "cell_type": "markdown",
      "metadata": {
        "id": "H2qU-xmXrCod"
      },
      "source": [
        "## **Question 4:** Compare your results\n"
      ]
    },
    {
      "cell_type": "markdown",
      "metadata": {
        "id": "5FcfTx67rI3u"
      },
      "source": [
        "Compare the cnn and dense networks your have built in terms of performance, runtime, accuracy, and any other factors you think are note worthy."
      ]
    },
    {
      "cell_type": "markdown",
      "metadata": {
        "id": "_re4mYVIrb_e"
      },
      "source": [
        "**Answer:**\n",
        "\n",
        "The CNN was more accurate and performed better overall than the dense network, potentially because the inputs were flattened, but the runtime seemed to be worse as well. The loss of the CNN also appeared much lower than the loss of the dense network.\n"
      ]
    }
  ]
}