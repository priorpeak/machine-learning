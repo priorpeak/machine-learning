{
  "nbformat": 4,
  "nbformat_minor": 0,
  "metadata": {
    "colab": {
      "name": "EC414_HW4(2).ipynb",
      "provenance": [],
      "collapsed_sections": []
    },
    "kernelspec": {
      "name": "python3",
      "display_name": "Python 3"
    }
  },
  "cells": [
    {
      "cell_type": "markdown",
      "metadata": {
        "id": "B_ih-R1fJ6VG"
      },
      "source": [
        "# Homework 4: Linear Binary Classification Methods\n",
        "by Junyu Liu and Brian Kulis\n",
        "\n",
        "**Due date**: March 3, Wednesday by 11:59pm\n",
        "\n",
        "**Late** due date: March 6, Saturday by 11:59pm"
      ]
    },
    {
      "cell_type": "markdown",
      "metadata": {
        "id": "fBxGJCzSKovR"
      },
      "source": [
        "## Setup"
      ]
    },
    {
      "cell_type": "markdown",
      "metadata": {
        "id": "4mxor3LzKpqj"
      },
      "source": [
        "To run and solve this assignment, you must have access to a working Jupyter Notebook installation. We recommend Google Colab. If you are already familiar with Jupyter and have your own installation, you may use it; however, you will have to tweak Colab-specific commands we've entered here (for example, file uploads).\n",
        "\n",
        "To use Google Colab:\n",
        "\n",
        "1. Download this `ipynb` file.\n",
        "2. Navigate to https://colab.research.google.com/ and select `Upload` in the pop-up window.\n",
        "3. Upload this file. It will then open in Colab.\n",
        "\n",
        "The below statements assume that you have already followed these instructions. If you need help with Python syntax, NumPy, or Matplotlib, you might find Week 1 discussion material useful.\n",
        "\n",
        "To run code in a cell or to render Markdown+LaTeX press Ctrl+Enter or \"`Run`\" button above. To edit any code or text cell, double-click on its content. Put your solution into boxes marked with **`[double click here to add a solution]`** and press Ctrl+Enter to render text. You can add cells via `+` sign at the top left corner.\n",
        "\n",
        "**Submission instructions:** please upload your completed solution file as well as a scan of any handwritten answers to Gradescope by the due date (see Schedule)."
      ]
    },
    {
      "cell_type": "markdown",
      "metadata": {
        "id": "iTtN4g49nWrB"
      },
      "source": [
        "This homework is scored out of 100.\n",
        "\n",
        "\n",
        "**Important:** unless otherwise specified, you should **NOT** use loops. This is not to say loops are always bad, but avoiding them should help you:\n",
        "1.   get more familiar with common language features and libraries\n",
        "2.   write more efficient code\n",
        "3.   \"think in higher dimensions\" (get more comfortable with vectors, matrices, etc.)"
      ]
    },
    {
      "cell_type": "markdown",
      "metadata": {
        "id": "_32VwlhsN9ny"
      },
      "source": [
        "## **Question 1:** Creating a Dataset (10 points)\n",
        "\n",
        "For this assignment, we will create a simple linearly-separable dataset for binary classification. We have provided you with the code to generate the feature vectors. Notice that one class has significantly more samples than the other.\n",
        "\n",
        "**Important:** Although this dataset has only 1 feature, **ALL** the code you write in this assignment should be able to run as intended with more features. The only exception is where you are producing plots. Many functions you need to write will be tested for compatibility with more features in question 5."
      ]
    },
    {
      "cell_type": "code",
      "metadata": {
        "id": "LS0rlO3eOCZK"
      },
      "source": [
        "import numpy as np\n",
        "import pandas as pd\n",
        "import matplotlib.pyplot as plt\n",
        "from sklearn.model_selection import train_test_split\n",
        "from numpy.random import default_rng"
      ],
      "execution_count": 72,
      "outputs": []
    },
    {
      "cell_type": "code",
      "metadata": {
        "id": "lw5AUAsV5MQr"
      },
      "source": [
        "# Do NOT change\n",
        "rng = default_rng(1)\n",
        "x1 = rng.uniform(-4, 2, 460)\n",
        "x2 = rng.normal(5, np.sqrt(3), 40)"
      ],
      "execution_count": 73,
      "outputs": []
    },
    {
      "cell_type": "markdown",
      "metadata": {
        "id": "S7rbmFam-xWg"
      },
      "source": [
        "### Problem a. (4 points)\n",
        "We need to create appropriate labels for the two classes. x1 is the feature vectors of the negative class and x2 the positive class. Also produce a colored feature-label scatter plot (the negative class should be blue and the positive class should be red)."
      ]
    },
    {
      "cell_type": "code",
      "metadata": {
        "colab": {
          "base_uri": "https://localhost:8080/",
          "height": 298
        },
        "id": "1i19iWdkAVpY",
        "outputId": "66a0c630-23f8-4a18-9300-a2c78c539f10"
      },
      "source": [
        "# WRITE CODE HERE: \r\n",
        "y1 = np.ones(460)\r\n",
        "y1 = np.negative(y1)\r\n",
        "\r\n",
        "y2 = np.ones(40)\r\n",
        "\r\n",
        "plt.title('Positive and Negative Class Data')\r\n",
        "plt.scatter(x1,y1)\r\n",
        "plt.scatter(x2,y2)"
      ],
      "execution_count": 74,
      "outputs": [
        {
          "output_type": "execute_result",
          "data": {
            "text/plain": [
              "<matplotlib.collections.PathCollection at 0x7f1e2f4e6dd0>"
            ]
          },
          "metadata": {
            "tags": []
          },
          "execution_count": 74
        },
        {
          "output_type": "display_data",
          "data": {
            "image/png": "[encoded data removed]",
            "text/plain": [
              "<Figure size 432x288 with 1 Axes>"
            ]
          },
          "metadata": {
            "tags": [],
            "needs_background": "light"
          }
        }
      ]
    },
    {
      "cell_type": "markdown",
      "metadata": {
        "id": "YRLTGhczArfW"
      },
      "source": [
        "### Problem b. (3 points)\n",
        "Combine the data into X and y, and then perform a 75-25 train-test split. Use 32 as the random_state.\n",
        "\n",
        "Hint: X has to be a 2D array, so you need to use reshape at some point."
      ]
    },
    {
      "cell_type": "code",
      "metadata": {
        "id": "ofFs0MR9Dp7z"
      },
      "source": [
        "# WRITE CODE HERE:\n",
        "X = np.append(x1,x2)\n",
        "X = np.reshape(X,(500,1))\n",
        "\n",
        "y = np.append(y1,y2)\n",
        "\n",
        "random_state=32\n",
        "test_size=0.25\n",
        "\n",
        "xtrain, xtest, ytrain, ytest = train_test_split(X, y, random_state=32, test_size=.25)"
      ],
      "execution_count": 75,
      "outputs": []
    },
    {
      "cell_type": "markdown",
      "metadata": {
        "id": "fTlkYTs619A_"
      },
      "source": [
        "### Problem c. (3 points)\n",
        "To conveniently account for the bias term in later parts, we will also store the feature vectors in extended form (each feature vector appended with 1). Apply this to both X_train and X_test."
      ]
    },
    {
      "cell_type": "code",
      "metadata": {
        "id": "4LFCgyVU3EKY"
      },
      "source": [
        "#WRITE CODE HERE:\n",
        "ones1 = np.ones(xtrain.shape)\n",
        "ones2 = np.ones(xtest.shape)\n",
        "\n",
        "Xtr_ext = np.append(xtrain, ones1, axis=1) # X_train, extended\n",
        "Xte_ext = np.append(xtest, ones2, axis=1) # X_test, extended"
      ],
      "execution_count": 76,
      "outputs": []
    },
    {
      "cell_type": "markdown",
      "metadata": {
        "id": "Vf7z43OcK2ax"
      },
      "source": [
        "## **Question 2:** OLS Regression for Binary Classification (20 points)\r\n",
        "\r\n",
        "In class, we talked about one way to implement clasification is to use one of the linear regression methods we learned. We will investigate how to use OLS for binary classification and see how it performs."
      ]
    },
    {
      "cell_type": "markdown",
      "metadata": {
        "id": "cxZX2J8wLVix"
      },
      "source": [
        "### Problem a. (3 points)\n",
        "\n",
        "When OLS takes a feature vector, it gives you a real-valued scalar. Assuming OLS works well (i.e., it gives a value close to the binary label (either -1 or 1) for most of the samples), how can you translate the value into the label? Suggest a simple method.\n",
        "\n",
        "Hint: we talked about this in class"
      ]
    },
    {
      "cell_type": "markdown",
      "metadata": {
        "id": "7gdm7yHm72aa"
      },
      "source": [
        "We could map the distance from the real-valued scalar to both 1 and -1. Whichever distance is smaller is the binary label that it should be mapped to."
      ]
    },
    {
      "cell_type": "markdown",
      "metadata": {
        "id": "eEFD30vtfu3T"
      },
      "source": [
        "### Problem b. (7 points)\n",
        "For simplicity, we will use the OLS implementation from sklearn whose documentation can be found here:\n",
        "https://scikit-learn.org/stable/modules/generated/sklearn.linear_model.LinearRegression.html\n",
        "\n",
        "Fit the model to X_train, y_train and then extract w and b. You should do so by using get_wOLS_ext, which you need to complete. Note that the function should return a single vector, which is the regular w vector with the bias term appended to it.\n",
        "\n",
        "Lastly, create the following plot:\n",
        "* a scatter plot of the training data overlayed by the OLS solution. For this, You can assume that X_train has only one feature.\n",
        "\n",
        "Hint: w is the coeficient and b is the intercept."
      ]
    },
    {
      "cell_type": "code",
      "metadata": {
        "id": "GvgEoJUMcpEh",
        "colab": {
          "base_uri": "https://localhost:8080/"
        },
        "outputId": "aa653e37-773a-443f-badc-1467be9e18ea"
      },
      "source": [
        "from sklearn import linear_model\r\n",
        "# WRITE CODE HERE: \r\n",
        "# DO NOT assume that X has only one feature\r\n",
        "def get_wOLS_ext(X, y):\r\n",
        "    model = linear_model.LinearRegression().fit(X,y)\r\n",
        "    w_ols_sklearn = np.append(model.coef_[:-1], model.intercept_)\r\n",
        "    return w_ols_sklearn\r\n",
        "\r\n",
        "wOLS_ext = get_wOLS_ext(Xtr_ext, ytrain)\r\n",
        "\r\n",
        "print(wOLS_ext)"
      ],
      "execution_count": 77,
      "outputs": [
        {
          "output_type": "stream",
          "text": [
            "[ 0.15042363 -0.76859499]\n"
          ],
          "name": "stdout"
        }
      ]
    },
    {
      "cell_type": "markdown",
      "metadata": {
        "id": "YhgVuFW9w773"
      },
      "source": [
        "### Problem c. (6 points)\n",
        "\n",
        "Complete the linear_binary_predict function to predict the labels of the test set using the OLS solution from part a. Also complete compute_CCR and report the correct classification rate (CCR).\n",
        "\n",
        "linear_binary_predict takes Xext, a matrix of extended feature vectors, and wext, an extended weight vector; it performs linear binary classification and returns a vector of predicted binary labels.\n",
        "\n",
        "compute_CCR takes Xext, wext, along with y, the expected binary labels to compute CCR. It should make use of linear_binary_predict.\n",
        "\n",
        "Note: \n",
        "*   We assume Xext to be row-major, meaning each row is a sample.\n",
        "*   Do not change the function prototype of linear_binary_predict. This also applies to all other functions we ask you to complete\n",
        "*   The OLS from sklearn has a builtin predict function. We are asking you to complete linear_binary_predict instead of using the builtin predict because linear_binary_predict will be important for later parts.\n",
        "\n",
        "Hint: use the idea from part a.\n",
        "\n"
      ]
    },
    {
      "cell_type": "code",
      "metadata": {
        "colab": {
          "base_uri": "https://localhost:8080/"
        },
        "id": "vrhLQ-0_x8OX",
        "outputId": "40c05f32-e194-4faa-9e21-b086cdc3d539"
      },
      "source": [
        "# WRITE CODE HERE:\n",
        "def linear_binary_predict(Xext, wext):\n",
        "    Xext = Xext @ wext\n",
        "    label_predict = np.sign(Xext)\n",
        "    return label_predict\n",
        "\n",
        "def compute_CCR(Xext, wext, y):\n",
        "    predict = linear_binary_predict(Xext, wext)\n",
        "    predict = predict - y\n",
        "    correct_predictions = np.count_nonzero(predict == 0)\n",
        "    CCR = correct_predictions / len(predict)\n",
        "    return CCR\n",
        "\n",
        "CCR = compute_CCR(Xte_ext, wOLS_ext, ytest)\n",
        "print(\"The test CCR using OLS is\", CCR)"
      ],
      "execution_count": 78,
      "outputs": [
        {
          "output_type": "stream",
          "text": [
            "The test CCR using OLS is 0.928\n"
          ],
          "name": "stdout"
        }
      ]
    },
    {
      "cell_type": "markdown",
      "metadata": {
        "id": "dX-NCA9sZ5XO"
      },
      "source": [
        "### Problem d. (4 points)\n",
        "Explain why CCR is not a good metric in this case. Suggest an alternative that better captures the performance of OLS on this dataset."
      ]
    },
    {
      "cell_type": "markdown",
      "metadata": {
        "id": "ZZmVPImh-XSk"
      },
      "source": [
        "CCR is not a good metric in this case because the datasets are unbalanced. X1 is a much larger dataset than X2. An alternative metric would be to compare the output of a Loss function."
      ]
    },
    {
      "cell_type": "markdown",
      "metadata": {
        "id": "OF7u7IoGC96w"
      },
      "source": [
        "## **Question 3:** Fisher's Linear Discriminant (27 points)\n",
        "Fisher's Linear Discriminant is a method that takes d dimensional feature vectors and projects them into 1 dimension, and it tries to do so in a fashion where the resulting 1D values are well-separated by class. Here our d happens to be 1, but as mentioned above, the code you write needs to be able to accomodate higher dimensions for full credit."
      ]
    },
    {
      "cell_type": "markdown",
      "metadata": {
        "id": "VaVLlwwJWrpX"
      },
      "source": [
        "### a. Separate the training set by class (4 points)\n",
        "\n",
        "Write a function seperate that takes the inputs X, y and separates X based on y.\n",
        "\n",
        "For full credit, create a vectorized implementation (no for loops)."
      ]
    },
    {
      "cell_type": "code",
      "metadata": {
        "id": "991ZOOYCY02l"
      },
      "source": [
        "def seperate(X, y):\n",
        "    # WRITE CODE HERE:\n",
        "    X1 = X[y <= 0]\n",
        "    X2 = X[y >= 0]\n",
        "    # X1 should be of the negative class, and X2 the positive class\n",
        "    return X1, X2\n",
        "\n",
        "X1, X2 = seperate(xtrain, ytrain)"
      ],
      "execution_count": 79,
      "outputs": []
    },
    {
      "cell_type": "markdown",
      "metadata": {
        "id": "bMMqIr0xB9BP"
      },
      "source": [
        "### b. Calculate mean vectors (4 points)\n",
        "Write a function get_means that takes the inputs X1, X2 and calculates the mean vectors of the two classes.\n",
        "\n",
        "For full credit, create a vectorized implementation (no for loops)."
      ]
    },
    {
      "cell_type": "code",
      "metadata": {
        "id": "GxuPgvLQKTPF",
        "colab": {
          "base_uri": "https://localhost:8080/"
        },
        "outputId": "da8d481c-87b7-48b6-b091-29f345345b8c"
      },
      "source": [
        "def get_means(X1, X2):\n",
        "    # WRITE CODE HERE:\n",
        "    m1 = np.mean(X1, axis=0)\n",
        "    m2 = np.mean(X2, axis=0)\n",
        "    return m1, m2 \n",
        "\n",
        "m1, m2 = get_means(X1, X2)\n",
        "print(m1)\n",
        "print(m2)"
      ],
      "execution_count": 80,
      "outputs": [
        {
          "output_type": "stream",
          "text": [
            "[-1.07085432]\n",
            "[5.73185771]\n"
          ],
          "name": "stdout"
        }
      ]
    },
    {
      "cell_type": "markdown",
      "metadata": {
        "id": "X3xQqSq_Ogmd"
      },
      "source": [
        "### c. Calculate within-class covariance (5 points)\n",
        "$S_w$, the total within-class covariance matrix, is a d by d matrix given by $S_1 + S_2$ where $S_1 = \\sum_{x_i \\in X_1}(x_i-m_1)^T(x_i-m_1) = (X_1-m_1)^T(X_1-m_1)$. \n",
        "\n",
        "Write a function get_Sw that takes the inputs X1, X2, m1, m2 and calculates Sw.\n",
        "\n",
        "For full credit, create a vectorized implementation.\n",
        "\n",
        "**Note:** depending on the schema of the dataset (row-major vs column-major), the formula to use might differ slightly from those on the lecture slides. We assume row-major (each sample is a row) here, as many public datasets are organized this way."
      ]
    },
    {
      "cell_type": "code",
      "metadata": {
        "id": "C5NaX0uwUXll",
        "colab": {
          "base_uri": "https://localhost:8080/"
        },
        "outputId": "97c15e7a-467b-4f7e-d831-dbe978d9cccb"
      },
      "source": [
        "def get_Sw(X1, X2, m1, m2):\n",
        "    # WRITE CODE HERE:\n",
        "    S1 = X1 - m1\n",
        "    S2 = X2 - m2\n",
        "    Sw = np.transpose(S1) @ S1 + np.transpose(S2) @ S2\n",
        "    return Sw\n",
        "\n",
        "Sw = get_Sw(X1, X2, m1, m2)\n",
        "print(Sw)"
      ],
      "execution_count": 81,
      "outputs": [
        {
          "output_type": "stream",
          "text": [
            "[[1106.73594709]]\n"
          ],
          "name": "stdout"
        }
      ]
    },
    {
      "cell_type": "markdown",
      "metadata": {
        "id": "NnV8WWDBdZAG"
      },
      "source": [
        "### d. Calculate $w_{FLD}$ and $b_{FLD}$ (5 points)\n",
        "Write a function get_wFLD_ext that takes the inputs Sw, m1, m2 and calculates the extended $w_{FLD}$.\n",
        "\n",
        "Recall that in class we mentioned the average of the averages of the two classes after the linear transformation can serve as the bias term. However, since we want the outputs of $Xw + b$ on the two classes to be roughly separated by 0, we actually want the effect of adding b to be the same as subtracting that average. Thus, use $b = -(m_1w + m_2w)/2$.\n",
        "\n",
        "For full credit, create a vectorized implementation, and do not use the inverse function.\n"
      ]
    },
    {
      "cell_type": "code",
      "metadata": {
        "id": "F1BuMyNvdXm9",
        "colab": {
          "base_uri": "https://localhost:8080/"
        },
        "outputId": "180e6890-16ae-4e75-b557-2f8397169965"
      },
      "source": [
        "def get_wFLD_ext(Sw, m1, m2):\n",
        "    # WRITE CODE HERE: \n",
        "    w = np.linalg.solve(Sw, m2 - m1)\n",
        "    b = -(m1 @ w + m2 @ w) / 2\n",
        "    return np.append(w, b)\n",
        "\n",
        "wFLD_ext = get_wFLD_ext(Sw, m1, m2)\n",
        "print('wFLD_ext:', wFLD_ext)"
      ],
      "execution_count": 82,
      "outputs": [
        {
          "output_type": "stream",
          "text": [
            "wFLD_ext: [ 0.00614664 -0.01432476]\n"
          ],
          "name": "stdout"
        }
      ]
    },
    {
      "cell_type": "markdown",
      "metadata": {
        "id": "R5FyLF32e9t0"
      },
      "source": [
        "### e. Evaluation (4 points)\n",
        "\n",
        "First, create a plot of the FLD solution using the training set. Then use the compute_CCR function that you wrote earlier to get the FLD CCR on the test set."
      ]
    },
    {
      "cell_type": "code",
      "metadata": {
        "colab": {
          "base_uri": "https://localhost:8080/",
          "height": 282
        },
        "id": "9hWd2qTM_xun",
        "outputId": "12ed6325-fe75-432f-d0fe-14702ef0737a"
      },
      "source": [
        "# WRITE CODE HERE: \n",
        "plt.plot(xtrain[0:,0], np.transpose(xtrain[0:,0] * wFLD_ext[0] + wFLD_ext[1]))\n",
        "CCR = compute_CCR(Xte_ext, wFLD_ext, ytest)\n",
        "print(\"The test CCR using FLD is\", CCR)"
      ],
      "execution_count": 83,
      "outputs": [
        {
          "output_type": "stream",
          "text": [
            "The test CCR using FLD is 1.0\n"
          ],
          "name": "stdout"
        },
        {
          "output_type": "display_data",
          "data": {
            "image/png": "[encoded data removed]",
            "text/plain": [
              "<Figure size 432x288 with 1 Axes>"
            ]
          },
          "metadata": {
            "tags": [],
            "needs_background": "light"
          }
        }
      ]
    },
    {
      "cell_type": "markdown",
      "metadata": {
        "id": "-kG8hSp7WHCD"
      },
      "source": [
        "### f. Reflection (5 points)\n",
        "Recall that in class we noted that OLS and FLD can be equivalent under certain situations. Is that the case here? If not, briefly comment on why they performed differently."
      ]
    },
    {
      "cell_type": "markdown",
      "metadata": {
        "id": "Aa2X0WzPCFKw"
      },
      "source": [
        "OLS and FLD are not equivalent in this case because the datasets are so unbalanced. Since X1 is so much larger than X2, OLS and FLD are unlikely to give us equivalent results."
      ]
    },
    {
      "cell_type": "markdown",
      "metadata": {
        "id": "1Hte8xdEpZNZ"
      },
      "source": [
        "## **Question 4:** An algorithm using SGD (33 points)\n",
        "Let us consider a different linear classifier in this problem, one based on the idea of an $\\textit{error}$ function minimization problem, similar to what we studied with linear regression, but whose error function is more tailored to the classification problem.\n",
        "\n",
        "The form of our linear classifier is $h_{\\bf{w}}(\\bf{x}) = \\mbox{sgn}(\\bf{w}^T \\bf{x})$, where $sgn$ is the sign function (so $1$ if $\\bf{w}^T \\bf{x} \\geq 0$ and $-1$ otherwise).  We are assuming here that we have padded the inputs with an extra dimension of $1$ to account for the bias term in the linear function, as we did with linear regression.\n",
        "\n",
        "In the binary classification case, each target class $y_i$ is either $1$ or $-1$.  One possible error function to use would say that the error is 0 if our linear classifier agrees with the target label (i.e. $y_i = \\mbox{sgn}(\\bf{w}^T \\bf{x}_i$)), and if our linear classifier predicts the incorrect class ($y_i \\neq \\mbox{sgn}(\\bf{w}^T \\bf{x}_i$)), then the error will be given by $|\\bf{w}^T \\bf{x}_i|$---intuitively, we penalize more for predictions that are farther from being predicted correctly.\n",
        "\n",
        "**Note:** the analytical parts of this question assume column feature vectors. However, you should still assume row feature vectors in the coding parts for consistency with our datasets."
      ]
    },
    {
      "cell_type": "markdown",
      "metadata": {
        "id": "19cL4fQjsHHC"
      },
      "source": [
        "### Problem a. (5 points)\n",
        "Show that, for each training point, this error function may be concisely written as\n",
        "\n",
        "$L_i(\\bf{w}) = \\max(0, -y_i \\bf{w}^T \\bf{x}_i)$."
      ]
    },
    {
      "cell_type": "markdown",
      "metadata": {
        "id": "rhJyt3ZrBuG2"
      },
      "source": [
        "If w is computed correctly, it will result in a positive term for the second parameter of the max function. This means that 0 will always be the greater value, so our Loss will ideally be 0."
      ]
    },
    {
      "cell_type": "markdown",
      "metadata": {
        "id": "rlqWT0CXs5vk"
      },
      "source": [
        "### Problem b. (5 points)\n",
        "We will compute the total loss over the training data as the sum of the $L_i$ losses, namely\n",
        "\n",
        "$L(\\bf{w}) = \\sum_{i=1}^n \\max(0, -y_i \\bf{w}^T \\bf{x}_i)$.\n",
        "\n",
        "Note that one reason we chose this particular loss function is that it is continuous (unlike the 0-1 loss).  Furthermore, it has a simple sub-gradient.  The sub-gradient of the loss at 0 is 0, and everywhere else it is equal to the gradient.  Show that the sub-gradient is equal to\n",
        "$\\nabla_{\\bf{w}} L_i = \n",
        "\\begin{cases}\n",
        "0 & h_{\\bf{w}} \\mbox{ classifies $\\bf{x}_i$ correctly}\\\\\n",
        "-y_i \\bf{x}_i & h_{\\bf{w}} \\mbox{ classifies $\\bf{x}_i$ incorrectly.}\n",
        "\\end{cases}$"
      ]
    },
    {
      "cell_type": "markdown",
      "metadata": {
        "id": "buQ26ILVB8xY"
      },
      "source": [
        "(See bottom)"
      ]
    },
    {
      "cell_type": "markdown",
      "metadata": {
        "id": "lF24kNfQuSKB"
      },
      "source": [
        "### Problem c. (5 points)\n",
        "Using a batch size of 1 and a step size of 1, write down the update rule for stochastic (sub)-gradient descent to minimize $L(\\bf{w})$."
      ]
    },
    {
      "cell_type": "markdown",
      "metadata": {
        "id": "1BZZldGACCr_"
      },
      "source": [
        "(See bottom)"
      ]
    },
    {
      "cell_type": "markdown",
      "metadata": {
        "id": "IpOT7Z6BrV6T"
      },
      "source": [
        "### Problem d. (12 points)\n",
        "Now it's time to implement the actual algorithm using the update rule we derived from part c. \n",
        "\n",
        "1.   Complete the one_pass function, which iterates over the entire Xext and y once, updating w in the process. (6 points)\n",
        "2.   Go over the training set twice (2 epochs) to get your final w, which you can do by calling one_pass twice in the get_wSGD function. Then report the CCR on the test set. (6 points)\n",
        "\n",
        "Note:\n",
        "* You should always shuffle the training set before each pass.\n",
        "* The first shuffle has already been performed by train_test_split, so you do not need to do a shuffle before the first pass here.\n",
        "* You can get rid of the one_pass function if you think it's better to incorporate it into get_wSGD, but you must keep get_wSGD."
      ]
    },
    {
      "cell_type": "code",
      "metadata": {
        "colab": {
          "base_uri": "https://localhost:8080/"
        },
        "id": "e14KZEtjvOuO",
        "outputId": "710afd48-d376-488b-dacb-a10680aef067"
      },
      "source": [
        "from sklearn.utils import shuffle\n",
        "\n",
        "def one_pass(Xext, y, w):\n",
        "    n = Xext.shape[0]\n",
        "    for i in range(n):\n",
        "        # WRITE CODE HERE:\n",
        "        if y[i] == np.sign(np.transpose(w) @ Xext[i]):\n",
        "          w = w\n",
        "        else:\n",
        "          w = w + y[i] * Xext[i]\n",
        "    return w\n",
        "def get_wSGD(Xext, y):\n",
        "    # use 0 as the random state for shuffling\n",
        "    random_state=0\n",
        "    # WRITE CODE HERE:\n",
        "    w = np.zeros(Xext.shape[1])\n",
        "    w = one_pass(Xext, y, w)\n",
        "    Xext, y = shuffle(Xext, y, random_state=0)\n",
        "    w = one_pass(Xext, y, w)\n",
        "    return w\n",
        "\n",
        "wSGD = get_wSGD(Xtr_ext, ytrain)\n",
        "CCR = compute_CCR(Xte_ext, wSGD, ytest)\n",
        "print(\"The test CCR using SGD is\", CCR)\n",
        "print('wSGD:', wSGD)"
      ],
      "execution_count": 84,
      "outputs": [
        {
          "output_type": "stream",
          "text": [
            "The test CCR using SGD is 0.92\n",
            "wSGD: [ 4.48944846 -5.        ]\n"
          ],
          "name": "stdout"
        }
      ]
    },
    {
      "cell_type": "markdown",
      "metadata": {
        "id": "KAyX-08Z1f5h"
      },
      "source": [
        "### Problem e. (6 points)\n",
        "\n",
        "The result you get from the previous part is likely not ideal. And if you change the random_state used for shuffling in the previous part (remember to change it back to 0 if you try this), you should see large swings in CCR. This is a common phenomenon when using SGD naively, and we will see this again in question 5.\n",
        "\n",
        "Recall from part c that we are using a fixed step size of 1, which is way too large for you to converge to a local minimum consistently. \n",
        "\n",
        "In practice, a technique called learning rate decay is commonly used with SGD. Essentially, the step size gets smaller after each iteration. This allows you to \"learn fast\" in the beginning and also be able to converge to a local minimum later when you are close to one.\n",
        "\n",
        "We will use an initial learning rate (step size) of 1 and the inverse square root decay, which means the step size at iteration $t$ is $\\frac1{\\sqrt t}$.\n",
        "\n",
        "Note:\n",
        "* $t$ starts at 1, not 0; otherwise, you will get a division by 0\n",
        "* You can get rid of the one_pass2 function if you think it's better to incorporate it into get_wSGD2."
      ]
    },
    {
      "cell_type": "code",
      "metadata": {
        "id": "qlM2SdxOvGvi",
        "colab": {
          "base_uri": "https://localhost:8080/"
        },
        "outputId": "b893f10c-0fa0-448f-a29e-8a50429788ed"
      },
      "source": [
        "import math\n",
        "\n",
        "def one_pass2(Xext, y, w, t):\n",
        "    n = Xext.shape[0]\n",
        "    iteration = t\n",
        "    for i in range(n):\n",
        "        # WRITE CODE HERE:\n",
        "        if y[i] == np.sign(np.transpose(w) @ Xext[i]):\n",
        "          w = w\n",
        "        else:\n",
        "          w = w + (1 / math.sqrt(iteration)) * y[i] * Xext[i]\n",
        "\n",
        "        iteration += 1\n",
        "    return w\n",
        "def get_wSGD2(Xext, y):\n",
        "    # use 0 as the random state for shuffling\n",
        "    random_state=0\n",
        "    # WRITE CODE HERE:\n",
        "    w = np.zeros(Xext.shape[1])\n",
        "    w = one_pass2(Xext, y, w, 1)\n",
        "    Xext, y = shuffle(Xext, y, random_state=0)\n",
        "    w = one_pass2(Xext, y, w, 1)\n",
        "    return w\n",
        "\n",
        "wSGD2 = get_wSGD2(Xtr_ext, ytrain)\n",
        "CCR = compute_CCR(Xte_ext, wSGD2, ytest)\n",
        "print(\"The test CCR using SGD with decay is\", CCR)\n",
        "print('wSGD2:', wSGD2)"
      ],
      "execution_count": 85,
      "outputs": [
        {
          "output_type": "stream",
          "text": [
            "The test CCR using SGD with decay is 1.0\n",
            "wSGD2: [ 0.92169208 -2.0213996 ]\n"
          ],
          "name": "stdout"
        }
      ]
    },
    {
      "cell_type": "markdown",
      "metadata": {
        "id": "tcnj3HYJHTqa"
      },
      "source": [
        "## **Question 5:** Testing the above methods on a real-world dataset (10 points)\n",
        "No code is required for this part. Getting part a to run correctly is not required for part b.\n",
        "\n",
        "The purpose of this question is to compare the three (four if you count SGD with decay as a separate one) methods on a real-world dataset. We will use the famous Iris dataset created by Sir Ronald Fisher (the same Fisher as in Fisher's Linear Discriminant). It contains feature measurements of 150 samples from three *Iris* flower species. We will combine two of the classes into a single negative class and the remaining class is the positive class. "
      ]
    },
    {
      "cell_type": "markdown",
      "metadata": {
        "id": "ekpBYEcfB8-3"
      },
      "source": [
        "### Problem a. (6 points)\n",
        "Run the cells below. The code for this part is provided to you, but it requires several earlier functions to be properly implemented to run. They need to be able to handle data with multiple features.\n",
        "\n",
        "You will be graded on how well the behavior of this part matches our expectation. Do NOT modify the code provided here; if you have issues running it, check the code you wrote in previous parts."
      ]
    },
    {
      "cell_type": "code",
      "metadata": {
        "id": "usHZVolZXXen"
      },
      "source": [
        "import pandas as pd\n",
        "from sklearn.datasets import load_iris\n",
        "from sklearn.preprocessing import normalize\n",
        "\n",
        "iris = load_iris()\n",
        "\n",
        "# Split data into feature vectors and labels\n",
        "X = iris.data\n",
        "y = iris.target\n",
        "# change the label values for binary classification\n",
        "y[:100] = -1\n",
        "y[100:] = 1"
      ],
      "execution_count": 86,
      "outputs": []
    },
    {
      "cell_type": "code",
      "metadata": {
        "id": "8yfPgky0OvO-"
      },
      "source": [
        "X_train, X_test, y_train, y_test = train_test_split(X, y, random_state=1234, test_size=0.25)\n",
        "Xtr_ext = np.c_[X_train, np.ones(X_train.shape[0])]\n",
        "Xte_ext = np.c_[X_test, np.ones(X_test.shape[0])]"
      ],
      "execution_count": 87,
      "outputs": []
    },
    {
      "cell_type": "code",
      "metadata": {
        "id": "9coGwIiKQZPh",
        "colab": {
          "base_uri": "https://localhost:8080/"
        },
        "outputId": "b13f2397-b45a-4cd3-c459-e95bbf9291ae"
      },
      "source": [
        "wOLS = get_wOLS_ext(Xtr_ext, y_train)\n",
        "CCR = compute_CCR(Xte_ext, wOLS, y_test)\n",
        "print(\"The test CCR using OLS is\", CCR)\n",
        "\n",
        "X1, X2 = seperate(X_train, y_train)\n",
        "m1, m2 = get_means(X1, X2)\n",
        "Sw = get_Sw(X1, X2, m1, m2)\n",
        "wFLD_ext = get_wFLD_ext(Sw, m1, m2)\n",
        "CCR = compute_CCR(Xte_ext, wFLD_ext, y_test)\n",
        "print(\"The test CCR using FLD is\", CCR)\n",
        "\n",
        "wSGD = get_wSGD(Xtr_ext, y_train)\n",
        "CCR = compute_CCR(Xte_ext, wSGD, y_test)\n",
        "print(\"The test CCR using SGD is\", CCR)\n",
        "\n",
        "wSGD2 = get_wSGD2(Xtr_ext, y_train)\n",
        "CCR = compute_CCR(Xte_ext, wSGD2, y_test)\n",
        "print(\"The test CCR using SGD with decay is\", CCR)"
      ],
      "execution_count": 88,
      "outputs": [
        {
          "output_type": "stream",
          "text": [
            "The test CCR using OLS is 0.8947368421052632\n",
            "The test CCR using FLD is 0.8947368421052632\n",
            "The test CCR using SGD is 0.6052631578947368\n",
            "The test CCR using SGD with decay is 1.0\n"
          ],
          "name": "stdout"
        }
      ]
    },
    {
      "cell_type": "markdown",
      "metadata": {
        "id": "jxpckb9mCE_P"
      },
      "source": [
        "### Problem b. (4 points)\n",
        "A class containing sub-classes is quite common in real-world classifications. One direct effect of this is that within such a class, the feature vectors tend to be quite spread out (in distinct clusters). Comment on the effect this may have on OLS and FLD.\n",
        "\n",
        "Hint: If the previous part runs correctly, you should see OLS and FLD perform worse than the SGD algorithm from problem 4e. "
      ]
    },
    {
      "cell_type": "markdown",
      "metadata": {
        "id": "e71oQW2IFCt7"
      },
      "source": [
        "If the feature vectors are more spread out (or data is in higher dimensions), it's more difficult for OLS and FLD to find an accurate weight vector that fits the data in higher dimensions, while SGD is much more capable because it finds the absolute minimum of the derivative of the Loss function with respect to W."
      ]
    }
  ]
}