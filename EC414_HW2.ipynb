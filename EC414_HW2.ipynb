{
  "nbformat": 4,
  "nbformat_minor": 0,
  "metadata": {
    "colab": {
      "name": "EC414_HW2.ipynb",
      "provenance": [],
      "collapsed_sections": []
    },
    "kernelspec": {
      "name": "python3",
      "display_name": "Python 3"
    }
  },
  "cells": [
    {
      "cell_type": "markdown",
      "metadata": {
        "id": "CDnayQkt-Vw5"
      },
      "source": [
        "# Homework 2: Linear Regression\r\n",
        "by Yousif Khaireddin and Sadie Allen\r\n",
        "\r\n",
        "**Due date**: February 17, Wednesday by 11:59pm\r\n"
      ]
    },
    {
      "cell_type": "markdown",
      "metadata": {
        "id": "DbDOBnxLIf4N"
      },
      "source": [
        "## **Question 1:** Ridge regression derivation"
      ]
    },
    {
      "cell_type": "markdown",
      "metadata": {
        "id": "74JIPHp5JiGb"
      },
      "source": [
        "**Throughout the following, please adhere to the following definitions**\r\n",
        "\r\n",
        "$\r\n",
        "n = number\\ of\\ samples \\\\\r\n",
        "d = number\\ of\\ features \\\\\r\n",
        "$\r\n",
        "\r\n",
        "$\r\n",
        "X = samples \\in \\mathcal{R}^{n x d}\\\\\r\n",
        "y = labels \\in \\mathcal{R}^n \\\\\r\n",
        "w = weight\\ matrix \\in \\mathcal{R}^d\r\n",
        "$"
      ]
    },
    {
      "cell_type": "markdown",
      "metadata": {
        "id": "-IzsMMniH2z4"
      },
      "source": [
        "In class, we have derived the closed form solution for OLS Regression. \r\n",
        "\r\n",
        "$\r\n",
        "loss = \\sum_{i=0}^{n}||y_i - \\sum_{j=0}^{d}x_{ij}w_j||^2 = (\\textbf{y} - \\textbf{Xw})^T (\\textbf{y} - \\textbf{Xw})\r\n",
        "$\r\n",
        "<br>\r\n",
        "\r\n",
        "\r\n",
        "The optimal value for the parameter $\\textbf{w}$ is given by\r\n",
        "\r\n",
        "$\r\n",
        "\\textbf{w*} = (\\textbf{X}^T \\textbf{X})^{-1}\\ \\textbf{X}^T \\textbf{y} \\\\\r\n",
        "$\r\n",
        "\r\n",
        "To control the variance of the parameters and avoid them growing to infinity and help with overfitting, ridge regression tries to regularize the loss fuction using w, shown below:\r\n",
        "<br><br>\r\n",
        "\r\n",
        "\r\n",
        "$\r\n",
        "loss = (\\textbf{y} - \\textbf{Xw})^T (\\textbf{y} - \\textbf{Xw} ) + \\lambda ||\\textbf{w}||^2_2\r\n",
        "$\r\n",
        "<br><br>\r\n",
        "\r\n",
        "\r\n",
        "The degree to which this regularization impacts the loss function is controlled by the $\\lambda$ parameter. This is a hyper-parameter which must be tuned using a validation set.\r\n",
        "\r\n",
        "<br>\r\n",
        "\r\n",
        "\r\n",
        "Derive the closed form solution of ridge regression using the same workflow used in class to derive OLS.\r\n",
        "\r\n",
        "**Hint:** You are trying to minimize the loss w.r.t. to $w$   \r\n"
      ]
    },
    {
      "cell_type": "markdown",
      "metadata": {
        "id": "20PBq4H_Anp9"
      },
      "source": [
        "**Answer:**\r\n",
        "(See bottom)"
      ]
    },
    {
      "cell_type": "markdown",
      "metadata": {
        "id": "wv8p6dTD1Xtr"
      },
      "source": [
        "## **Question 2:**  Relationship between Lasso Regression and Maximum a posteriori estimation"
      ]
    },
    {
      "cell_type": "markdown",
      "metadata": {
        "id": "GpDPgHMK1e3c"
      },
      "source": [
        "As we have previously discussed in class, in linear regression, we can consider $y$ to be the product of the weight vector with the sample with some added noise factor. \r\n",
        "\r\n",
        "$ y = w^Tx + \\mathcal{N} (0, \\sigma^2) $\r\n",
        "\r\n",
        "So, each $y_i$ is distributed according to a gaussian distribution goverend by the noise, and mean-shifted by $w^Tx$\r\n",
        "\r\n",
        "$y \\sim \\mathcal{N} (w^Tx, \\sigma^2)$\r\n",
        "\r\n",
        "$p(y|x, w) = \\frac{1}{\\sigma \\sqrt{2 \\pi}} e^{\\sum_{i=1}^{n} \\frac{-(y_i - x_i^Tw)^2}{2\\sigma^2}} $\r\n",
        "<br><br>\r\n",
        "\r\n",
        "\r\n",
        "Additionally, assume the prior of the model is Laplacian whose coefficients are iid with zero mean and scale parameter $b$.\r\n",
        "\r\n",
        "$p(w|\\mu, b) = \\frac{1}{2b}e^{\\frac{-||w-\\mu||_1}{b}}$\r\n",
        "<br>\r\n",
        "\r\n",
        "\r\n",
        "Show that the formula for LASSO linear regression can be derived via MAP estimation with a Laplace prior.\r\n"
      ]
    },
    {
      "cell_type": "markdown",
      "metadata": {
        "id": "kDqtxuABUwXn"
      },
      "source": [
        "**Answer** \r\n",
        "(See bottom)"
      ]
    },
    {
      "cell_type": "markdown",
      "metadata": {
        "id": "TG5yndLcyOTN"
      },
      "source": [
        "## **Question 3:** Linear Regression Implementation (OLS, Ridge)"
      ]
    },
    {
      "cell_type": "markdown",
      "metadata": {
        "id": "iZz-JWJlyY3d"
      },
      "source": [
        "Throughout this question we will be concerned with implementing Linear regression and Ridge regression and verifying our results against sklearn's inbuilt functions. \r\n",
        "\r\n",
        "To do this, we will be using a very simple and small dataset containing 50 samples and only 1 feature.  \r\n",
        "\r\n",
        "This will enable us to plot and visualize everything along the way. \r\n"
      ]
    },
    {
      "cell_type": "markdown",
      "metadata": {
        "id": "zWXoz_MJi6X5"
      },
      "source": [
        "### Data processing and Visualization"
      ]
    },
    {
      "cell_type": "code",
      "metadata": {
        "colab": {
          "base_uri": "https://localhost:8080/"
        },
        "id": "ms6c0qWHWal5",
        "outputId": "b43124c2-0674-4da6-a571-439803ff13d7"
      },
      "source": [
        "import numpy as np\r\n",
        "from sklearn.datasets import make_regression\r\n",
        "\r\n",
        "X, y, coefficients = make_regression(\r\n",
        "    n_samples=50,\r\n",
        "    n_features=1,\r\n",
        "    n_informative=1,\r\n",
        "    n_targets=1,\r\n",
        "    noise=5,\r\n",
        "    coef=True,\r\n",
        "    random_state=10\r\n",
        ")\r\n",
        "\r\n",
        "print(\"X shape:\", X.shape, sep='\\t')\r\n",
        "print(\"y shape:\", y.shape, sep='\\t')"
      ],
      "execution_count": null,
      "outputs": [
        {
          "output_type": "stream",
          "text": [
            "X shape:\t(50, 1)\n",
            "y shape:\t(50,)\n"
          ],
          "name": "stdout"
        }
      ]
    },
    {
      "cell_type": "markdown",
      "metadata": {
        "id": "xmkYehMiaPlV"
      },
      "source": [
        "Create a scatter plot of all datapoints to see our data"
      ]
    },
    {
      "cell_type": "code",
      "metadata": {
        "id": "Mam6xKvXZ6FP",
        "colab": {
          "base_uri": "https://localhost:8080/",
          "height": 312
        },
        "outputId": "8d4ac463-013a-4af1-f5e4-4162f3132f09"
      },
      "source": [
        "from matplotlib import pyplot as plt\r\n",
        "\r\n",
        "# -- Code Required --\r\n",
        "plt.title('Raw Data')\r\n",
        "plt.xlabel('X')\r\n",
        "plt.ylabel('y')\r\n",
        "plt.scatter(X, y, marker='o')"
      ],
      "execution_count": null,
      "outputs": [
        {
          "output_type": "execute_result",
          "data": {
            "text/plain": [
              "<matplotlib.collections.PathCollection at 0x7f8f62366550>"
            ]
          },
          "metadata": {
            "tags": []
          },
          "execution_count": 2
        },
        {
          "output_type": "display_data",
          "data": {
            "image/png": "[encoded data removed]",
            "text/plain": [
              "<Figure size 432x288 with 1 Axes>"
            ]
          },
          "metadata": {
            "tags": [],
            "needs_background": "light"
          }
        }
      ]
    },
    {
      "cell_type": "markdown",
      "metadata": {
        "id": "Q59lV2qy1Hnu"
      },
      "source": [
        "Attach a vector of ones onto **X** to account for the bias value"
      ]
    },
    {
      "cell_type": "code",
      "metadata": {
        "id": "1FZ5WfvM1HQI",
        "colab": {
          "base_uri": "https://localhost:8080/"
        },
        "outputId": "55e9abfe-50df-42c5-ddae-bb0ab41fcda0"
      },
      "source": [
        "ones = np.ones((50, 1)) # -- Code Required --\r\n",
        "X = np.append(X, ones, axis=1) # -- Code Required --\r\n",
        "\r\n",
        "print(\"X shape:\", X.shape, sep='\\t')\r\n",
        "print(\"y shape:\", y.shape, sep='\\t')"
      ],
      "execution_count": null,
      "outputs": [
        {
          "output_type": "stream",
          "text": [
            "X shape:\t(50, 2)\n",
            "y shape:\t(50,)\n"
          ],
          "name": "stdout"
        }
      ]
    },
    {
      "cell_type": "markdown",
      "metadata": {
        "id": "o0iCfv7A1V4u"
      },
      "source": [
        "Using **train_test_split** from sklearn, seperate the data using a 60, 20, 20 split.\r\n",
        "\r\n",
        "* Make sure to suffle the dataset using a **random_state** of 42\r\n",
        "\r\n",
        "**Hint:** \r\n",
        "\r\n",
        "* This can be done easily with 2 calls to **train_test_split**. \r\n",
        "\r\n",
        "* The first call will split the data into train/test, and the second will split the train data into train/val\r\n",
        "\r\n",
        "**Note:** \r\n",
        "\r\n",
        "Though we will have no use for the validation set in this question since we are merely concerned with creating all the required implementations at this time, it will be vital in the next question."
      ]
    },
    {
      "cell_type": "code",
      "metadata": {
        "id": "zDIxO-VZz5-j",
        "colab": {
          "base_uri": "https://localhost:8080/"
        },
        "outputId": "df176ef8-2929-426b-ddf9-e6f5a8953043"
      },
      "source": [
        "from sklearn.model_selection import train_test_split\r\n",
        "\r\n",
        "xtrain, xtest, ytrain, ytest = train_test_split(X, y, random_state=42, train_size=.8) # -- Code Required --\r\n",
        "xtrain, xval, ytrain, yval = train_test_split(xtrain, ytrain, random_state=42, train_size=.75) # -- Code Required --\r\n",
        "\r\n",
        "print(\"xtrain shape:\", xtrain.shape, sep='\\t')\r\n",
        "print(\"xval shape:\", xval.shape, sep='\\t')\r\n",
        "print(\"xtest shape:\", xtest.shape, '\\n', sep='\\t')\r\n",
        "\r\n",
        "print(\"ytrain shape:\", ytrain.shape, sep='\\t')\r\n",
        "print(\"yval shape:\", yval.shape, sep='\\t')\r\n",
        "print(\"ytest shape:\", ytest.shape, sep='\\t')"
      ],
      "execution_count": null,
      "outputs": [
        {
          "output_type": "stream",
          "text": [
            "xtrain shape:\t(30, 2)\n",
            "xval shape:\t(10, 2)\n",
            "xtest shape:\t(10, 2)\t\n",
            "\n",
            "ytrain shape:\t(30,)\n",
            "yval shape:\t(10,)\n",
            "ytest shape:\t(10,)\n"
          ],
          "name": "stdout"
        }
      ]
    },
    {
      "cell_type": "markdown",
      "metadata": {
        "id": "Zlm5k9gDf4bh"
      },
      "source": [
        "### OLS"
      ]
    },
    {
      "cell_type": "markdown",
      "metadata": {
        "id": "_vN_svN5hr1f"
      },
      "source": [
        "Define a function *get_loss* that takes the inputs X, y, and W and calculates the loss required (MSE). Its skeleton is shown below.\r\n",
        "\r\n",
        "For full credit, create a vectorized implementation (no for loops)."
      ]
    },
    {
      "cell_type": "code",
      "metadata": {
        "id": "UF41wAsRhrOG"
      },
      "source": [
        "def get_loss(X, y, W):\r\n",
        "    loss = np.matmul(np.transpose(y-np.matmul(X,W)),(y-np.matmul(X,W))) / len(y) # -- Code Required --\r\n",
        "    return loss"
      ],
      "execution_count": null,
      "outputs": []
    },
    {
      "cell_type": "markdown",
      "metadata": {
        "id": "W5CtrKUday0Q"
      },
      "source": [
        "Using the derivation done in class, implement the closed form solution for ordinary least squares.\r\n",
        "\r\n",
        "Do this by defining a function *OLS* that takes the inputs $\\mathbf{X}$ and $\\mathbf{y}$ and returns $\\mathbf{w}$. Its skeleton is shown below.\r\n",
        "\r\n",
        "For full credit, do not use the inverse function\r\n",
        "\r\n",
        "**Hint:** you may want to look into *numpy.linalg.solve* "
      ]
    },
    {
      "cell_type": "code",
      "metadata": {
        "id": "7UBVsYH_0xWl",
        "colab": {
          "base_uri": "https://localhost:8080/"
        },
        "outputId": "5f5ff971-fc20-4ccc-82a1-dbad8fdabdc9"
      },
      "source": [
        "def OLS(X, y):\r\n",
        "    mat1 = np.matmul(np.transpose(X),X)\r\n",
        "    mat2 = np.matmul(np.transpose(X),y)\r\n",
        "    W = np.linalg.solve(mat1, mat2) # -- Code Required --\r\n",
        "\r\n",
        "    return W\r\n",
        "\r\n",
        "W_ols = OLS(xtrain, ytrain)\r\n",
        "print(\"W_ols:\", W_ols)"
      ],
      "execution_count": null,
      "outputs": [
        {
          "output_type": "stream",
          "text": [
            "W_ols: [ 1.01054998e+02 -8.83448668e-02]\n"
          ],
          "name": "stdout"
        }
      ]
    },
    {
      "cell_type": "markdown",
      "metadata": {
        "id": "PVamkAfJa932"
      },
      "source": [
        "Create the following plots:\r\n",
        "* a scatter plot of the training data overlayed by the OLS solution\r\n",
        "* a scatter plot of the testing data overlayed by the OLS solution "
      ]
    },
    {
      "cell_type": "code",
      "metadata": {
        "id": "fW7QTvQQ1-T0",
        "colab": {
          "base_uri": "https://localhost:8080/",
          "height": 606
        },
        "outputId": "cbfbfd23-621c-464d-bdb7-83773587a723"
      },
      "source": [
        "from matplotlib import pyplot as plt\r\n",
        "\r\n",
        "# -- Code Required --\r\n",
        "plt.scatter(xtrain[:,0], ytrain)\r\n",
        "plt.plot(xtrain, W_ols[0]*xtrain+W_ols[1], label='OLS Regression')\r\n",
        "plt.title('OLS Train')\r\n",
        "plt.xlabel('xtrain')\r\n",
        "plt.ylabel('ytrain')\r\n",
        "plt.legend()\r\n",
        "plt.figure()\r\n",
        "\r\n",
        "plt.scatter(xtest[:,0], ytest, color='r')\r\n",
        "plt.plot(xtest, W_ols[0]*xtest+W_ols[1], color='r', label='OLS Regression')\r\n",
        "plt.title('OLS Test')\r\n",
        "plt.xlabel('xtrain')\r\n",
        "plt.ylabel('ytrain')\r\n",
        "plt.legend()\r\n",
        "plt.figure()"
      ],
      "execution_count": null,
      "outputs": [
        {
          "output_type": "execute_result",
          "data": {
            "text/plain": [
              "<Figure size 432x288 with 0 Axes>"
            ]
          },
          "metadata": {
            "tags": []
          },
          "execution_count": 7
        },
        {
          "output_type": "display_data",
          "data": {
            "image/png": "[encoded data removed]",
            "text/plain": [
              "<Figure size 432x288 with 1 Axes>"
            ]
          },
          "metadata": {
            "tags": [],
            "needs_background": "light"
          }
        },
        {
          "output_type": "display_data",
          "data": {
            "image/png": "[encoded data removed]",
            "text/plain": [
              "<Figure size 432x288 with 1 Axes>"
            ]
          },
          "metadata": {
            "tags": [],
            "needs_background": "light"
          }
        },
        {
          "output_type": "display_data",
          "data": {
            "text/plain": [
              "<Figure size 432x288 with 0 Axes>"
            ]
          },
          "metadata": {
            "tags": []
          }
        }
      ]
    },
    {
      "cell_type": "markdown",
      "metadata": {
        "id": "3Cp9D7DSbnbF"
      },
      "source": [
        "Compute training loss and testing loss using the *get_loss* function you have previously defined "
      ]
    },
    {
      "cell_type": "code",
      "metadata": {
        "id": "B0iNW6w93nfj",
        "colab": {
          "base_uri": "https://localhost:8080/"
        },
        "outputId": "68ae365a-2996-45dd-f947-7f6152607435"
      },
      "source": [
        "loss_train = get_loss(xtrain, ytrain, W_ols) # -- Code Required --\r\n",
        "loss_test = get_loss(xtest, ytest, W_ols) # -- Code Required --\r\n",
        "\r\n",
        "print(\"Training Loss:\", loss_train)\r\n",
        "print(\"Testing Loss:\", loss_test)"
      ],
      "execution_count": null,
      "outputs": [
        {
          "output_type": "stream",
          "text": [
            "Training Loss: 31.058137679214596\n",
            "Testing Loss: 42.851876889248445\n"
          ],
          "name": "stdout"
        }
      ]
    },
    {
      "cell_type": "markdown",
      "metadata": {
        "id": "CBhLpnDhgAjf"
      },
      "source": [
        "### Ridge"
      ]
    },
    {
      "cell_type": "markdown",
      "metadata": {
        "id": "H00sDTfPbwDq"
      },
      "source": [
        "Define a function *get_ridge_loss* that takes the inputs X, y, W, and $\\lambda$ and calculates the loss required (MSE with L2 regularization). \r\n",
        "\r\n",
        "Its skeleton is shown below.\r\n",
        "\r\n",
        "For full credit, create a vectorized implementation (no for loops)."
      ]
    },
    {
      "cell_type": "code",
      "metadata": {
        "id": "AelQiKx0chaT"
      },
      "source": [
        "def get_ridge_loss(X, y, W, lmda):\r\n",
        "    loss = get_loss(X, y, W) + lmda * np.matmul(np.transpose(W), W) # -- Code Required --\r\n",
        "    return loss"
      ],
      "execution_count": null,
      "outputs": []
    },
    {
      "cell_type": "markdown",
      "metadata": {
        "id": "_FXBpy1idcp5"
      },
      "source": [
        "Using your derivation from question 1, implement the closed form solution for ridge regression.\r\n",
        "\r\n",
        "Do this by defining a function *ridge* that takes the inputs $\\mathbf{X}$, $\\mathbf{y}$, and $\\lambda$ and returns $\\mathbf{w}$. Its skeleton is shown below.\r\n",
        "\r\n",
        "For full credit, do not use the inverse function\r\n",
        "\r\n",
        "For now, we will set $\\lambda = 0.1$. \r\n",
        "This performance will not be optimal, but we will worry about this later"
      ]
    },
    {
      "cell_type": "code",
      "metadata": {
        "id": "CQPFvmv9cuv2",
        "colab": {
          "base_uri": "https://localhost:8080/"
        },
        "outputId": "07d28ced-b8ea-452c-eee8-45cb81a3eb9a"
      },
      "source": [
        "def ridge(X, y, lmda):\r\n",
        "    mat1 = np.matmul(np.transpose(X), X) + lmda * np.identity(X.shape[1])\r\n",
        "    mat2 = np.matmul(np.transpose(X), y)\r\n",
        "    W = np.linalg.solve(mat1, mat2) # -- Code Required --\r\n",
        "\r\n",
        "    return W\r\n",
        "\r\n",
        "lmda = 0.1\r\n",
        "W_ridge = ridge(xtrain, ytrain, lmda)\r\n",
        "print(\"W_ridge:\", W_ridge)"
      ],
      "execution_count": null,
      "outputs": [
        {
          "output_type": "stream",
          "text": [
            "W_ridge: [ 1.00606862e+02 -2.34634212e-02]\n"
          ],
          "name": "stdout"
        }
      ]
    },
    {
      "cell_type": "markdown",
      "metadata": {
        "id": "6oyzimeBZTyW"
      },
      "source": [
        "Create the following plots:\r\n",
        "* a scatter plot of the training data overlayed by the ridge solution\r\n",
        "* a scatter plot of the testing data overlayed by the ridge solution "
      ]
    },
    {
      "cell_type": "code",
      "metadata": {
        "id": "qtrPo_25ZQoP",
        "colab": {
          "base_uri": "https://localhost:8080/",
          "height": 606
        },
        "outputId": "57683d13-7849-4f69-905c-6ff82567c3e8"
      },
      "source": [
        "from matplotlib import pyplot as plt\r\n",
        "\r\n",
        "# -- Code Required --\r\n",
        "plt.scatter(xtrain[:,0], ytrain)\r\n",
        "plt.plot(xtrain, W_ridge[0]*xtrain+W_ridge[1], label='Ridge Regression')\r\n",
        "plt.title('Ridge Train')\r\n",
        "plt.xlabel('xtrain')\r\n",
        "plt.ylabel('ytrain')\r\n",
        "plt.legend()\r\n",
        "plt.figure()\r\n",
        "\r\n",
        "plt.scatter(xtest[:,0], ytest, color='r')\r\n",
        "plt.plot(xtest, W_ridge[0]*xtest+W_ridge[1], color='r', label='Ridge Regression')\r\n",
        "plt.title('Ridge Test')\r\n",
        "plt.xlabel('xtrain')\r\n",
        "plt.ylabel('ytrain')\r\n",
        "plt.legend()\r\n",
        "plt.figure()"
      ],
      "execution_count": null,
      "outputs": [
        {
          "output_type": "execute_result",
          "data": {
            "text/plain": [
              "<Figure size 432x288 with 0 Axes>"
            ]
          },
          "metadata": {
            "tags": []
          },
          "execution_count": 11
        },
        {
          "output_type": "display_data",
          "data": {
            "image/png": "[encoded data removed]",
            "text/plain": [
              "<Figure size 432x288 with 1 Axes>"
            ]
          },
          "metadata": {
            "tags": [],
            "needs_background": "light"
          }
        },
        {
          "output_type": "display_data",
          "data": {
            "image/png": "[encoded data removed]",
            "text/plain": [
              "<Figure size 432x288 with 1 Axes>"
            ]
          },
          "metadata": {
            "tags": [],
            "needs_background": "light"
          }
        },
        {
          "output_type": "display_data",
          "data": {
            "text/plain": [
              "<Figure size 432x288 with 0 Axes>"
            ]
          },
          "metadata": {
            "tags": []
          }
        }
      ]
    },
    {
      "cell_type": "markdown",
      "metadata": {
        "id": "aQ_SS8CqbE6J"
      },
      "source": [
        "Compute training loss and testing loss using the *get_ridge_loss* function you have previously defined "
      ]
    },
    {
      "cell_type": "code",
      "metadata": {
        "id": "LbBFX7qgaUG7",
        "colab": {
          "base_uri": "https://localhost:8080/"
        },
        "outputId": "d496297f-7952-4025-ddee-c68cc1e63fbf"
      },
      "source": [
        "loss_train = get_ridge_loss(xtrain, ytrain, W_ridge, lmda) # -- Code Required --\r\n",
        "loss_test = get_ridge_loss(xtest, ytest, W_ridge, lmda) # -- Code Required --\r\n",
        "\r\n",
        "print(\"Training Loss:\", loss_train)\r\n",
        "print(\"Testing Loss:\", loss_test)"
      ],
      "execution_count": null,
      "outputs": [
        {
          "output_type": "stream",
          "text": [
            "Training Loss: 1043.3825438223294\n",
            "Testing Loss: 1052.5995501130883\n"
          ],
          "name": "stdout"
        }
      ]
    },
    {
      "cell_type": "markdown",
      "metadata": {
        "id": "i5sRIf0ejGKc"
      },
      "source": [
        "### Verifying Results"
      ]
    },
    {
      "cell_type": "markdown",
      "metadata": {
        "id": "XlshXIRUkroc"
      },
      "source": [
        "Use sklearn's pre-built OLS model on our dataset and verify that your implementation matches its result\r\n",
        "\r\n",
        "Do this by printing $w_{ols}$ from your implementation and sklearn's implementation"
      ]
    },
    {
      "cell_type": "code",
      "metadata": {
        "id": "81ZnXuW2jLZM",
        "colab": {
          "base_uri": "https://localhost:8080/"
        },
        "outputId": "8afaad34-bd5c-4b9c-e25a-54ee82c2b0d1"
      },
      "source": [
        "from sklearn.linear_model import LinearRegression, Lasso, Ridge\r\n",
        "\r\n",
        "# Previous result\r\n",
        "W_ols = OLS(xval, yval) # -- Code Required --\r\n",
        "print(\"W_ols:\", W_ols)\r\n",
        "\r\n",
        "# Sklearn result\r\n",
        "W_ols_sklearn = LinearRegression() # -- Code Required --\r\n",
        "\r\n",
        "# Fit Sklearn Model\r\n",
        "# -- Code Required --\r\n",
        "W_ols_sklearn.fit(xval, yval)\r\n",
        "\r\n",
        "print(\"W_ols_sklearn\", W_ols_sklearn.coef_[:-1], W_ols_sklearn.intercept_)"
      ],
      "execution_count": null,
      "outputs": [
        {
          "output_type": "stream",
          "text": [
            "W_ols: [94.24979486 -1.82831136]\n",
            "W_ols_sklearn [94.24979486] -1.8283113602707246\n"
          ],
          "name": "stdout"
        }
      ]
    },
    {
      "cell_type": "markdown",
      "metadata": {
        "id": "nNRsvB1ok8oD"
      },
      "source": [
        "Use scklearn's pre-built Ridge model on our dataset and verify that your implementation matches its result.\r\n",
        "\r\n",
        "Use the same $\\lambda = 0.1$ from the previous section\r\n",
        "\r\n",
        "Do this by printing $w_{ridge}$ from your implementation and sklearn's implementation"
      ]
    },
    {
      "cell_type": "code",
      "metadata": {
        "id": "jl0_yDasjnZw",
        "colab": {
          "base_uri": "https://localhost:8080/"
        },
        "outputId": "475c378e-db53-498c-dec7-a9d97c6d4a2a"
      },
      "source": [
        "from sklearn.linear_model import Ridge\r\n",
        "\r\n",
        "# Previous result\r\n",
        "W_ridge = ridge(xtrain, ytrain, lmda) # -- Code Required --\r\n",
        "print(\"W_ridge:\", W_ridge) # This value has already been calculated previously, so I commented the above line\r\n",
        "\r\n",
        "# Sklearn result\r\n",
        "W_ridge_sklearn = Ridge(alpha=lmda) # -- Code Required --\r\n",
        "\r\n",
        "# Fit Sklearn Model\r\n",
        "# -- Code Required --\r\n",
        "W_ridge_sklearn.fit(xtrain, ytrain)\r\n",
        "\r\n",
        "print(\"W_ridge_sklearn\", W_ridge_sklearn.coef_[:-1], W_ridge_sklearn.intercept_)"
      ],
      "execution_count": null,
      "outputs": [
        {
          "output_type": "stream",
          "text": [
            "W_ridge: [ 1.00606862e+02 -2.34634212e-02]\n",
            "W_ridge_sklearn [100.60687668] -0.02354380831199343\n"
          ],
          "name": "stdout"
        }
      ]
    },
    {
      "cell_type": "markdown",
      "metadata": {
        "id": "6hEmdrNqb7x7"
      },
      "source": [
        "## **Question 4:** Hyperparameter Tuning"
      ]
    },
    {
      "cell_type": "markdown",
      "metadata": {
        "id": "l_G2AH4mcJpO"
      },
      "source": [
        "Throughout this question, we will be interested in tuning the hyper parameter $\\lambda$ in ridge regression. And showing ridge's impact vs regular OLS.\r\n",
        "\r\n",
        "To do this, we will need a more complex dataset. One which has many redundant, non-informative dimensions. So we will be defining a new synthetic dataset using the code below.\r\n",
        "\r\n",
        "Our dataset will have 50 samples, and 1000 features."
      ]
    },
    {
      "cell_type": "code",
      "metadata": {
        "id": "9roTCuaffTC4",
        "colab": {
          "base_uri": "https://localhost:8080/"
        },
        "outputId": "8291b0bc-bcae-47cf-a719-23651624ccfb"
      },
      "source": [
        "import numpy as np\r\n",
        "from sklearn.datasets import make_regression\r\n",
        "\r\n",
        "X, y, coefficients = make_regression(\r\n",
        "    n_samples=50,\r\n",
        "    n_features=1000,\r\n",
        "    n_informative=2,\r\n",
        "    n_targets=1,\r\n",
        "    noise=5,\r\n",
        "    coef=True,\r\n",
        "    random_state=10\r\n",
        ")\r\n",
        "y = abs(y)\r\n",
        "print(\"X shape:\", X.shape, sep='\\t')\r\n",
        "print(\"y shape:\", y.shape, sep='\\t')"
      ],
      "execution_count": null,
      "outputs": [
        {
          "output_type": "stream",
          "text": [
            "X shape:\t(50, 1000)\n",
            "y shape:\t(50,)\n"
          ],
          "name": "stdout"
        }
      ]
    },
    {
      "cell_type": "markdown",
      "metadata": {
        "id": "nB8jOiTSeRPs"
      },
      "source": [
        "Attach a vector of ones onto **X** to account for the bias value"
      ]
    },
    {
      "cell_type": "code",
      "metadata": {
        "id": "k0qc5igrdn4i",
        "colab": {
          "base_uri": "https://localhost:8080/"
        },
        "outputId": "2114555a-628d-44c4-ed36-35fdfc1fd7c2"
      },
      "source": [
        "ones = np.ones((50,1)) # -- Code Required --\r\n",
        "X = np.append(X, ones, axis=1) # -- Code Required --\r\n",
        "\r\n",
        "print(\"X shape:\", X.shape, sep='\\t')\r\n",
        "print(\"y shape:\", y.shape, sep='\\t')"
      ],
      "execution_count": null,
      "outputs": [
        {
          "output_type": "stream",
          "text": [
            "X shape:\t(50, 1001)\n",
            "y shape:\t(50,)\n"
          ],
          "name": "stdout"
        }
      ]
    },
    {
      "cell_type": "markdown",
      "metadata": {
        "id": "kMEqFbP2eZZ2"
      },
      "source": [
        "Using **train_test_split** from sklearn, seperate the data using a 60, 20, 20 split.\r\n",
        "\r\n",
        "* Make sure to suffle the dataset using a **random_state** of 42\r\n",
        "\r\n",
        "**Hint:** \r\n",
        "\r\n",
        "* This can be done easily with 2 calls to **train_test_split**. \r\n",
        "\r\n",
        "* The first call will split the data into train/test, and the second will split the train data into train/val\r\n"
      ]
    },
    {
      "cell_type": "code",
      "metadata": {
        "id": "x1kbvkRZn-d9",
        "colab": {
          "base_uri": "https://localhost:8080/"
        },
        "outputId": "c17c73a1-e3af-4231-84ee-de10aaa058e4"
      },
      "source": [
        "from sklearn.model_selection import train_test_split\r\n",
        "\r\n",
        "xtrain, xtest, ytrain, ytest = train_test_split(X, y, random_state=42, train_size=.8) # -- Code Required --\r\n",
        "xtrain, xval, ytrain, yval = train_test_split(xtrain, ytrain, random_state=42, train_size=.75) # -- Code Required --\r\n",
        "\r\n",
        "print(\"xtrain shape:\", xtrain.shape, sep='\\t')\r\n",
        "print(\"xval shape:\", xval.shape, sep='\\t')\r\n",
        "print(\"xtest shape:\", xtest.shape, '\\n', sep='\\t')\r\n",
        "\r\n",
        "print(\"ytrain shape:\", ytrain.shape, sep='\\t')\r\n",
        "print(\"yval shape:\", yval.shape, sep='\\t')\r\n",
        "print(\"ytest shape:\", ytest.shape, sep='\\t')"
      ],
      "execution_count": null,
      "outputs": [
        {
          "output_type": "stream",
          "text": [
            "xtrain shape:\t(30, 1001)\n",
            "xval shape:\t(10, 1001)\n",
            "xtest shape:\t(10, 1001)\t\n",
            "\n",
            "ytrain shape:\t(30,)\n",
            "yval shape:\t(10,)\n",
            "ytest shape:\t(10,)\n"
          ],
          "name": "stdout"
        }
      ]
    },
    {
      "cell_type": "markdown",
      "metadata": {
        "id": "5Gc1HKmCfU5b"
      },
      "source": [
        "### OLS"
      ]
    },
    {
      "cell_type": "markdown",
      "metadata": {
        "id": "EkmPvDCxejAr"
      },
      "source": [
        "Using your implementation from the previous question,\r\n",
        "get the OLS solution on this dataset."
      ]
    },
    {
      "cell_type": "code",
      "metadata": {
        "id": "yTTXNGCJetfW",
        "colab": {
          "base_uri": "https://localhost:8080/"
        },
        "outputId": "e1e01dee-b062-4f68-855c-b271458c938c"
      },
      "source": [
        "W_ols = OLS(xtrain, ytrain) # -- Code Required --\r\n",
        "print(\"W_ols:\", W_ols[:10])    # For the sake of cleanliness we will only print first 10 coefficients"
      ],
      "execution_count": null,
      "outputs": [
        {
          "output_type": "stream",
          "text": [
            "W_ols: [ -13.26861093  298.01003142 -127.44260886  106.46641054  303.01110206\n",
            " -131.63697552   80.12829674 -289.14061156 -444.02100392  -72.2118103 ]\n"
          ],
          "name": "stdout"
        }
      ]
    },
    {
      "cell_type": "markdown",
      "metadata": {
        "id": "ATeeqIUmeyaF"
      },
      "source": [
        "Using your loss function from the previous question, obtain the train, val, and test losses of OLS.\r\n",
        "\r\n",
        "Is this solution over fitting the data? Explain."
      ]
    },
    {
      "cell_type": "code",
      "metadata": {
        "id": "Y7_ljfseeu2Z",
        "colab": {
          "base_uri": "https://localhost:8080/"
        },
        "outputId": "1722cd8b-9467-4b9d-f38c-da29842bdbc1"
      },
      "source": [
        "loss_train = get_loss(xtrain, ytrain, W_ols) # -- Code Required --\r\n",
        "loss_val = get_loss(xval, yval, W_ols) # -- Code Required --\r\n",
        "loss_test = get_loss(xtest, ytest, W_ols) # -- Code Required --\r\n",
        "\r\n",
        "print(\"Training Loss:\", loss_train)\r\n",
        "print(\"Validation Loss:\", loss_val)\r\n",
        "print(\"Testing Loss:\", loss_test)"
      ],
      "execution_count": null,
      "outputs": [
        {
          "output_type": "stream",
          "text": [
            "Training Loss: 9.283699787792093e-24\n",
            "Validation Loss: 14675023.61521715\n",
            "Testing Loss: 16883461.083436023\n"
          ],
          "name": "stdout"
        }
      ]
    },
    {
      "cell_type": "markdown",
      "metadata": {
        "id": "8DgKGD-yfD5l"
      },
      "source": [
        "**Answer**<br>\n",
        "The solution is over fitting the data because while the training loss is low, the validation and testing loss is extremely high. This signifies overfitting."
      ]
    },
    {
      "cell_type": "markdown",
      "metadata": {
        "id": "jGljVyVpfXFs"
      },
      "source": [
        "### Ridge"
      ]
    },
    {
      "cell_type": "markdown",
      "metadata": {
        "id": "ZOCRHgVxdws6"
      },
      "source": [
        "Using your implementation from the previous question, and your validations data, tune the $\\lambda$ parameter of ridge regression. \r\n",
        "\r\n",
        "Do this by creating a loop that varies $\\lambda$ from 10e-20 to 10e-1 in factors of 10.\r\n",
        "\r\n",
        "On each iteration \r\n",
        "* calculate W_ridge using your previous implementation\r\n",
        "* calculate training and validation loss\r\n",
        "* store the training loss, validation loss, and $\\lambda$ value. These will be needed for the coming plots."
      ]
    },
    {
      "cell_type": "code",
      "metadata": {
        "id": "QUnyO-M6gADb"
      },
      "source": [
        "train_loss_arr = []\r\n",
        "val_loss_arr = []\r\n",
        "lmdas = []\r\n",
        "\r\n",
        "# -- Code Required --\r\n",
        "for i in range(-20, 0):\r\n",
        "  lmda = 10**i\r\n",
        "  lmdas.append(lmda)\r\n",
        "  W_ridge = ridge(xtrain, ytrain, lmda)\r\n",
        "  train_loss_arr.append(get_ridge_loss(xtrain, ytrain, W_ridge, lmda))\r\n",
        "  val_loss_arr.append(get_ridge_loss(xval, yval, W_ridge, lmda))\r\n",
        "\r\n",
        "# print(train_loss_arr[:10])\r\n",
        "# print(val_loss_arr[:10])\r\n",
        "# print(lmdas[:10])"
      ],
      "execution_count": null,
      "outputs": []
    },
    {
      "cell_type": "markdown",
      "metadata": {
        "id": "Kkv3n1yaebyS"
      },
      "source": [
        "Create a plot of the losses as a function of lamda"
      ]
    },
    {
      "cell_type": "code",
      "metadata": {
        "id": "jYK_NqPIgYjX",
        "colab": {
          "base_uri": "https://localhost:8080/",
          "height": 333
        },
        "outputId": "f274017d-5ee2-4374-80d6-c622bff90349"
      },
      "source": [
        "from matplotlib import pyplot as plt\r\n",
        "\r\n",
        "# -- Code Required --\r\n",
        "plt.plot(lmdas, train_loss_arr, label='Training Loss')\r\n",
        "plt.plot(lmdas, val_loss_arr, label='Validatoin Loss', color='r')\r\n",
        "\r\n",
        "plt.xscale('log')\r\n",
        "plt.title('Loss as a Function of Lambda')\r\n",
        "plt.xlabel('Lambda')\r\n",
        "plt.ylabel('Loss')\r\n",
        "plt.legend()\r\n",
        "plt.figure()\r\n",
        "\r\n"
      ],
      "execution_count": null,
      "outputs": [
        {
          "output_type": "execute_result",
          "data": {
            "text/plain": [
              "<Figure size 432x288 with 0 Axes>"
            ]
          },
          "metadata": {
            "tags": []
          },
          "execution_count": 21
        },
        {
          "output_type": "display_data",
          "data": {
            "image/png": "[encoded data removed]",
            "text/plain": [
              "<Figure size 432x288 with 1 Axes>"
            ]
          },
          "metadata": {
            "tags": [],
            "needs_background": "light"
          }
        },
        {
          "output_type": "display_data",
          "data": {
            "text/plain": [
              "<Figure size 432x288 with 0 Axes>"
            ]
          },
          "metadata": {
            "tags": []
          }
        }
      ]
    },
    {
      "cell_type": "markdown",
      "metadata": {
        "id": "zZOu07Wpgxl2"
      },
      "source": [
        "Identify the best lambda $\\lambda^*$, and train your final classifier $W^*_{ridge}$ on both the training and the validation data together."
      ]
    },
    {
      "cell_type": "code",
      "metadata": {
        "id": "ZNC6XEfhYTmq",
        "colab": {
          "base_uri": "https://localhost:8080/"
        },
        "outputId": "9913c04e-940a-4903-b20f-539daeaaf9b5"
      },
      "source": [
        "# Identifying lambda_star\r\n",
        "min_val = min(val_loss_arr)\r\n",
        "lmda_star = lmdas[val_loss_arr.index(min_val)] # -- Code Required --\r\n",
        "\r\n",
        "# Creating final xtrain and ytrain\r\n",
        "xtrain_final = np.concatenate((xtrain, xval), axis=0) # -- Code Required --\r\n",
        "ytrain_final = np.concatenate((ytrain, yval), axis=0) # -- Code Required --\r\n",
        "\r\n",
        "# Calculating W_ridge_star\r\n",
        "W_ridge_star = ridge(xtrain_final, ytrain_final, lmda_star) # -- Code Required --\r\n",
        "\r\n",
        "print(\"lmda_star:\", lmda_star)\r\n",
        "print(\"W_ridge_star:\", W_ridge_star[:10]) # For the sake of cleanliness we will only print first 10 coefficients"
      ],
      "execution_count": null,
      "outputs": [
        {
          "output_type": "stream",
          "text": [
            "lmda_star: 1e-09\n",
            "W_ridge_star: [ 0.3665771  -0.56241768  1.71956546 -0.51824779  0.60807615 -0.43755518\n",
            " -0.82181921  0.03306205  0.88506299 -0.95328715]\n"
          ],
          "name": "stdout"
        }
      ]
    },
    {
      "cell_type": "markdown",
      "metadata": {
        "id": "x4NkOKPphlZV"
      },
      "source": [
        "Using your loss function *get_ridge_loss* from the previous question, obtain the train, val, and test losses of $W_{ridge}^*$. Then answer the following questions:\r\n",
        "* Are we overfitting the dataset? Explain.\r\n",
        "* How are we performing compared to OLS"
      ]
    },
    {
      "cell_type": "code",
      "metadata": {
        "id": "lAcKos3phh89",
        "colab": {
          "base_uri": "https://localhost:8080/"
        },
        "outputId": "3d99c284-f7e1-4ac5-a99d-8b7e6e3702c1"
      },
      "source": [
        "loss_train = get_ridge_loss(xtrain, ytrain, W_ridge_star, lmda_star) # -- Code Required --\r\n",
        "loss_val = get_ridge_loss(xval, yval, W_ridge_star, lmda_star) # -- Code Required --\r\n",
        "loss_test = get_ridge_loss(xtest, ytest, W_ridge_star, lmda_star) # -- Code Required --\r\n",
        "\r\n",
        "print(\"Training Loss:\", loss_train)\r\n",
        "print(\"Validation Loss:\", loss_val)\r\n",
        "print(\"Testing Loss:\", loss_test)"
      ],
      "execution_count": null,
      "outputs": [
        {
          "output_type": "stream",
          "text": [
            "Training Loss: 4.1758425710220574e-07\n",
            "Validation Loss: 4.175842571022181e-07\n",
            "Testing Loss: 8237.190780112856\n"
          ],
          "name": "stdout"
        }
      ]
    },
    {
      "cell_type": "markdown",
      "metadata": {
        "id": "RD3KrymEiNr1"
      },
      "source": [
        "**Answer** <br>\n",
        "We are still overfitting the dataset, but not nearly as bad as the OLS regression. The validation loss is extremely low and nearly the same as the training loss, and the testing loss is orders of magnitude lower than the OLS testing loss."
      ]
    }
  ]
}